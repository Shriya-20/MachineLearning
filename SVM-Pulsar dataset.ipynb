{
 "cells": [
  {
   "cell_type": "markdown",
   "id": "7ffe0953",
   "metadata": {},
   "source": [
    "## Week 6-Pulsar dataset"
   ]
  },
  {
   "cell_type": "raw",
   "id": "3f2a75d5",
   "metadata": {},
   "source": [
    "Week 6\n",
    "Name: Shriya Bhat\n",
    "220968020\n",
    "Batch A1 dse\n",
    "file 1"
   ]
  },
  {
   "cell_type": "markdown",
   "id": "a8114799",
   "metadata": {},
   "source": [
    "### 1. Import libraries\n",
    "### 2. Import dataset  "
   ]
  },
  {
   "cell_type": "code",
   "execution_count": 1,
   "id": "dd028467",
   "metadata": {},
   "outputs": [],
   "source": [
    "import numpy as np\n",
    "import pandas as pd\n",
    "import matplotlib.pyplot as plt \n",
    "import seaborn as sns \n",
    "%matplotlib inline"
   ]
  },
  {
   "cell_type": "markdown",
   "id": "22474f45",
   "metadata": {},
   "source": [
    "### 3. Explore the data to gain insights about the data "
   ]
  },
  {
   "cell_type": "code",
   "execution_count": 2,
   "id": "e081523e",
   "metadata": {},
   "outputs": [
    {
     "data": {
      "text/html": [
       "<div>\n",
       "<style scoped>\n",
       "    .dataframe tbody tr th:only-of-type {\n",
       "        vertical-align: middle;\n",
       "    }\n",
       "\n",
       "    .dataframe tbody tr th {\n",
       "        vertical-align: top;\n",
       "    }\n",
       "\n",
       "    .dataframe thead th {\n",
       "        text-align: right;\n",
       "    }\n",
       "</style>\n",
       "<table border=\"1\" class=\"dataframe\">\n",
       "  <thead>\n",
       "    <tr style=\"text-align: right;\">\n",
       "      <th></th>\n",
       "      <th>Mean of the integrated profile</th>\n",
       "      <th>Standard deviation of the integrated profile</th>\n",
       "      <th>Excess kurtosis of the integrated profile</th>\n",
       "      <th>Skewness of the integrated profile</th>\n",
       "      <th>Mean of the DM-SNR curve</th>\n",
       "      <th>Standard deviation of the DM-SNR curve</th>\n",
       "      <th>Excess kurtosis of the DM-SNR curve</th>\n",
       "      <th>Skewness of the DM-SNR curve</th>\n",
       "      <th>target_class</th>\n",
       "    </tr>\n",
       "  </thead>\n",
       "  <tbody>\n",
       "    <tr>\n",
       "      <th>0</th>\n",
       "      <td>121.156250</td>\n",
       "      <td>48.372971</td>\n",
       "      <td>0.375485</td>\n",
       "      <td>-0.013165</td>\n",
       "      <td>3.168896</td>\n",
       "      <td>18.399367</td>\n",
       "      <td>7.449874</td>\n",
       "      <td>65.159298</td>\n",
       "      <td>0.0</td>\n",
       "    </tr>\n",
       "    <tr>\n",
       "      <th>1</th>\n",
       "      <td>76.968750</td>\n",
       "      <td>36.175557</td>\n",
       "      <td>0.712898</td>\n",
       "      <td>3.388719</td>\n",
       "      <td>2.399666</td>\n",
       "      <td>17.570997</td>\n",
       "      <td>9.414652</td>\n",
       "      <td>102.722975</td>\n",
       "      <td>0.0</td>\n",
       "    </tr>\n",
       "    <tr>\n",
       "      <th>2</th>\n",
       "      <td>130.585938</td>\n",
       "      <td>53.229534</td>\n",
       "      <td>0.133408</td>\n",
       "      <td>-0.297242</td>\n",
       "      <td>2.743311</td>\n",
       "      <td>22.362553</td>\n",
       "      <td>8.508364</td>\n",
       "      <td>74.031324</td>\n",
       "      <td>0.0</td>\n",
       "    </tr>\n",
       "    <tr>\n",
       "      <th>3</th>\n",
       "      <td>156.398438</td>\n",
       "      <td>48.865942</td>\n",
       "      <td>-0.215989</td>\n",
       "      <td>-0.171294</td>\n",
       "      <td>17.471572</td>\n",
       "      <td>NaN</td>\n",
       "      <td>2.958066</td>\n",
       "      <td>7.197842</td>\n",
       "      <td>0.0</td>\n",
       "    </tr>\n",
       "    <tr>\n",
       "      <th>4</th>\n",
       "      <td>84.804688</td>\n",
       "      <td>36.117659</td>\n",
       "      <td>0.825013</td>\n",
       "      <td>3.274125</td>\n",
       "      <td>2.790134</td>\n",
       "      <td>20.618009</td>\n",
       "      <td>8.405008</td>\n",
       "      <td>76.291128</td>\n",
       "      <td>0.0</td>\n",
       "    </tr>\n",
       "  </tbody>\n",
       "</table>\n",
       "</div>"
      ],
      "text/plain": [
       "    Mean of the integrated profile  \\\n",
       "0                       121.156250   \n",
       "1                        76.968750   \n",
       "2                       130.585938   \n",
       "3                       156.398438   \n",
       "4                        84.804688   \n",
       "\n",
       "    Standard deviation of the integrated profile  \\\n",
       "0                                      48.372971   \n",
       "1                                      36.175557   \n",
       "2                                      53.229534   \n",
       "3                                      48.865942   \n",
       "4                                      36.117659   \n",
       "\n",
       "    Excess kurtosis of the integrated profile  \\\n",
       "0                                    0.375485   \n",
       "1                                    0.712898   \n",
       "2                                    0.133408   \n",
       "3                                   -0.215989   \n",
       "4                                    0.825013   \n",
       "\n",
       "    Skewness of the integrated profile   Mean of the DM-SNR curve  \\\n",
       "0                            -0.013165                   3.168896   \n",
       "1                             3.388719                   2.399666   \n",
       "2                            -0.297242                   2.743311   \n",
       "3                            -0.171294                  17.471572   \n",
       "4                             3.274125                   2.790134   \n",
       "\n",
       "    Standard deviation of the DM-SNR curve  \\\n",
       "0                                18.399367   \n",
       "1                                17.570997   \n",
       "2                                22.362553   \n",
       "3                                      NaN   \n",
       "4                                20.618009   \n",
       "\n",
       "    Excess kurtosis of the DM-SNR curve   Skewness of the DM-SNR curve  \\\n",
       "0                              7.449874                      65.159298   \n",
       "1                              9.414652                     102.722975   \n",
       "2                              8.508364                      74.031324   \n",
       "3                              2.958066                       7.197842   \n",
       "4                              8.405008                      76.291128   \n",
       "\n",
       "   target_class  \n",
       "0           0.0  \n",
       "1           0.0  \n",
       "2           0.0  \n",
       "3           0.0  \n",
       "4           0.0  "
      ]
     },
     "execution_count": 2,
     "metadata": {},
     "output_type": "execute_result"
    }
   ],
   "source": [
    "df=pd.read_csv(\"pulsar_data.csv\")\n",
    "df.head()"
   ]
  },
  {
   "cell_type": "code",
   "execution_count": 3,
   "id": "f9648262",
   "metadata": {},
   "outputs": [
    {
     "name": "stdout",
     "output_type": "stream",
     "text": [
      "<class 'pandas.core.frame.DataFrame'>\n",
      "RangeIndex: 12528 entries, 0 to 12527\n",
      "Data columns (total 9 columns):\n",
      " #   Column                                         Non-Null Count  Dtype  \n",
      "---  ------                                         --------------  -----  \n",
      " 0    Mean of the integrated profile                12528 non-null  float64\n",
      " 1    Standard deviation of the integrated profile  12528 non-null  float64\n",
      " 2    Excess kurtosis of the integrated profile     10793 non-null  float64\n",
      " 3    Skewness of the integrated profile            12528 non-null  float64\n",
      " 4    Mean of the DM-SNR curve                      12528 non-null  float64\n",
      " 5    Standard deviation of the DM-SNR curve        11350 non-null  float64\n",
      " 6    Excess kurtosis of the DM-SNR curve           12528 non-null  float64\n",
      " 7    Skewness of the DM-SNR curve                  11903 non-null  float64\n",
      " 8   target_class                                   12528 non-null  float64\n",
      "dtypes: float64(9)\n",
      "memory usage: 881.0 KB\n"
     ]
    }
   ],
   "source": [
    "df.info()\n",
    "import warnings\n",
    "warnings.filterwarnings('ignore')"
   ]
  },
  {
   "cell_type": "code",
   "execution_count": 4,
   "id": "ba97aca4",
   "metadata": {},
   "outputs": [
    {
     "data": {
      "text/plain": [
       "(12528, 9)"
      ]
     },
     "execution_count": 4,
     "metadata": {},
     "output_type": "execute_result"
    }
   ],
   "source": [
    "df.shape"
   ]
  },
  {
   "cell_type": "markdown",
   "id": "31c84071",
   "metadata": {},
   "source": [
    "we have 8 continuous variables and 1 discrete variable `target_class`"
   ]
  },
  {
   "cell_type": "code",
   "execution_count": 5,
   "id": "903e7c7e",
   "metadata": {},
   "outputs": [
    {
     "data": {
      "text/plain": [
       "Index([' Mean of the integrated profile',\n",
       "       ' Standard deviation of the integrated profile',\n",
       "       ' Excess kurtosis of the integrated profile',\n",
       "       ' Skewness of the integrated profile', ' Mean of the DM-SNR curve',\n",
       "       ' Standard deviation of the DM-SNR curve',\n",
       "       ' Excess kurtosis of the DM-SNR curve', ' Skewness of the DM-SNR curve',\n",
       "       'target_class'],\n",
       "      dtype='object')"
      ]
     },
     "execution_count": 5,
     "metadata": {},
     "output_type": "execute_result"
    }
   ],
   "source": [
    "df.columns"
   ]
  },
  {
   "cell_type": "markdown",
   "id": "1d38d2b2",
   "metadata": {},
   "source": [
    "We see a lot of unneccesary spaces"
   ]
  },
  {
   "cell_type": "markdown",
   "id": "6bdbcfa4",
   "metadata": {},
   "source": [
    "- `.str.strip()`: This is a pandas Series method that operates on each element of the Series (in this case, each column label). It removes leading and trailing whitespace from each element."
   ]
  },
  {
   "cell_type": "code",
   "execution_count": 6,
   "id": "92b34696",
   "metadata": {},
   "outputs": [
    {
     "data": {
      "text/plain": [
       "Index(['Mean of the integrated profile',\n",
       "       'Standard deviation of the integrated profile',\n",
       "       'Excess kurtosis of the integrated profile',\n",
       "       'Skewness of the integrated profile', 'Mean of the DM-SNR curve',\n",
       "       'Standard deviation of the DM-SNR curve',\n",
       "       'Excess kurtosis of the DM-SNR curve', 'Skewness of the DM-SNR curve',\n",
       "       'target_class'],\n",
       "      dtype='object')"
      ]
     },
     "execution_count": 6,
     "metadata": {},
     "output_type": "execute_result"
    }
   ],
   "source": [
    "df.columns=df.columns.str.strip()\n",
    "df.columns"
   ]
  },
  {
   "cell_type": "markdown",
   "id": "d9d5fcb4",
   "metadata": {},
   "source": [
    "Shortening column names for convenience"
   ]
  },
  {
   "cell_type": "code",
   "execution_count": 7,
   "id": "c9d39245",
   "metadata": {},
   "outputs": [],
   "source": [
    "df.columns = ['IP Mean', 'IP Sd', 'IP Kurtosis', 'IP Skewness', \n",
    "              'DM-SNR Mean', 'DM-SNR Sd', 'DM-SNR Kurtosis', 'DM-SNR Skewness', 'target_class']"
   ]
  },
  {
   "cell_type": "markdown",
   "id": "c03bfb9f",
   "metadata": {},
   "source": [
    " checking distribution of target_class column\n"
   ]
  },
  {
   "cell_type": "code",
   "execution_count": 8,
   "id": "f6457762",
   "metadata": {},
   "outputs": [
    {
     "data": {
      "text/plain": [
       "0.0    11375\n",
       "1.0     1153\n",
       "Name: target_class, dtype: int64"
      ]
     },
     "execution_count": 8,
     "metadata": {},
     "output_type": "execute_result"
    }
   ],
   "source": [
    "df['target_class'].value_counts()"
   ]
  },
  {
   "cell_type": "markdown",
   "id": "4eace928",
   "metadata": {},
   "source": [
    "viewing percentage distribution"
   ]
  },
  {
   "cell_type": "code",
   "execution_count": 9,
   "id": "42f3b08b",
   "metadata": {},
   "outputs": [
    {
     "data": {
      "text/plain": [
       "0.0    90.796616\n",
       "1.0     9.203384\n",
       "Name: target_class, dtype: float64"
      ]
     },
     "execution_count": 9,
     "metadata": {},
     "output_type": "execute_result"
    }
   ],
   "source": [
    "df['target_class'].value_counts()/(len(df))*100"
   ]
  },
  {
   "cell_type": "markdown",
   "id": "52b59a95",
   "metadata": {},
   "source": [
    "- It is an imbalanced distribution"
   ]
  },
  {
   "cell_type": "markdown",
   "id": "be00d776",
   "metadata": {},
   "source": [
    "Exploring missing values"
   ]
  },
  {
   "cell_type": "code",
   "execution_count": 10,
   "id": "5dcdfaf8",
   "metadata": {},
   "outputs": [
    {
     "data": {
      "text/plain": [
       "IP Mean               0\n",
       "IP Sd                 0\n",
       "IP Kurtosis        1735\n",
       "IP Skewness           0\n",
       "DM-SNR Mean           0\n",
       "DM-SNR Sd          1178\n",
       "DM-SNR Kurtosis       0\n",
       "DM-SNR Skewness     625\n",
       "target_class          0\n",
       "dtype: int64"
      ]
     },
     "execution_count": 10,
     "metadata": {},
     "output_type": "execute_result"
    }
   ],
   "source": [
    "df.isnull().sum()"
   ]
  },
  {
   "cell_type": "code",
   "execution_count": 11,
   "id": "696815f0",
   "metadata": {},
   "outputs": [
    {
     "name": "stdout",
     "output_type": "stream",
     "text": [
      "<class 'pandas.core.frame.DataFrame'>\n",
      "RangeIndex: 12528 entries, 0 to 12527\n",
      "Data columns (total 9 columns):\n",
      " #   Column           Non-Null Count  Dtype  \n",
      "---  ------           --------------  -----  \n",
      " 0   IP Mean          12528 non-null  float64\n",
      " 1   IP Sd            12528 non-null  float64\n",
      " 2   IP Kurtosis      10793 non-null  float64\n",
      " 3   IP Skewness      12528 non-null  float64\n",
      " 4   DM-SNR Mean      12528 non-null  float64\n",
      " 5   DM-SNR Sd        11350 non-null  float64\n",
      " 6   DM-SNR Kurtosis  12528 non-null  float64\n",
      " 7   DM-SNR Skewness  11903 non-null  float64\n",
      " 8   target_class     12528 non-null  float64\n",
      "dtypes: float64(9)\n",
      "memory usage: 881.0 KB\n"
     ]
    }
   ],
   "source": [
    "df.info()"
   ]
  },
  {
   "cell_type": "code",
   "execution_count": 12,
   "id": "32b476da",
   "metadata": {},
   "outputs": [],
   "source": [
    "for i in df.columns:\n",
    "    df[i].fillna(df[i].median(),inplace=True)\n",
    "    "
   ]
  },
  {
   "cell_type": "code",
   "execution_count": 13,
   "id": "217b2549",
   "metadata": {},
   "outputs": [
    {
     "data": {
      "text/plain": [
       "IP Mean            0\n",
       "IP Sd              0\n",
       "IP Kurtosis        0\n",
       "IP Skewness        0\n",
       "DM-SNR Mean        0\n",
       "DM-SNR Sd          0\n",
       "DM-SNR Kurtosis    0\n",
       "DM-SNR Skewness    0\n",
       "target_class       0\n",
       "dtype: int64"
      ]
     },
     "execution_count": 13,
     "metadata": {},
     "output_type": "execute_result"
    }
   ],
   "source": [
    "df.isnull().sum()"
   ]
  },
  {
   "cell_type": "markdown",
   "id": "2febf6af",
   "metadata": {},
   "source": [
    "- null values replaced with the median of the respective column"
   ]
  },
  {
   "cell_type": "markdown",
   "id": "644aab6a",
   "metadata": {},
   "source": [
    " view summary statistics in numerical variables\n"
   ]
  },
  {
   "cell_type": "code",
   "execution_count": 14,
   "id": "ed24c886",
   "metadata": {},
   "outputs": [
    {
     "data": {
      "text/html": [
       "<div>\n",
       "<style scoped>\n",
       "    .dataframe tbody tr th:only-of-type {\n",
       "        vertical-align: middle;\n",
       "    }\n",
       "\n",
       "    .dataframe tbody tr th {\n",
       "        vertical-align: top;\n",
       "    }\n",
       "\n",
       "    .dataframe thead th {\n",
       "        text-align: right;\n",
       "    }\n",
       "</style>\n",
       "<table border=\"1\" class=\"dataframe\">\n",
       "  <thead>\n",
       "    <tr style=\"text-align: right;\">\n",
       "      <th></th>\n",
       "      <th>IP Mean</th>\n",
       "      <th>IP Sd</th>\n",
       "      <th>IP Kurtosis</th>\n",
       "      <th>IP Skewness</th>\n",
       "      <th>DM-SNR Mean</th>\n",
       "      <th>DM-SNR Sd</th>\n",
       "      <th>DM-SNR Kurtosis</th>\n",
       "      <th>DM-SNR Skewness</th>\n",
       "      <th>target_class</th>\n",
       "    </tr>\n",
       "  </thead>\n",
       "  <tbody>\n",
       "    <tr>\n",
       "      <th>count</th>\n",
       "      <td>12528.00</td>\n",
       "      <td>12528.00</td>\n",
       "      <td>12528.00</td>\n",
       "      <td>12528.00</td>\n",
       "      <td>12528.00</td>\n",
       "      <td>12528.00</td>\n",
       "      <td>12528.00</td>\n",
       "      <td>12528.00</td>\n",
       "      <td>12528.00</td>\n",
       "    </tr>\n",
       "    <tr>\n",
       "      <th>mean</th>\n",
       "      <td>111.04</td>\n",
       "      <td>46.52</td>\n",
       "      <td>0.44</td>\n",
       "      <td>1.78</td>\n",
       "      <td>12.67</td>\n",
       "      <td>25.60</td>\n",
       "      <td>8.33</td>\n",
       "      <td>104.41</td>\n",
       "      <td>0.09</td>\n",
       "    </tr>\n",
       "    <tr>\n",
       "      <th>std</th>\n",
       "      <td>25.67</td>\n",
       "      <td>6.80</td>\n",
       "      <td>0.99</td>\n",
       "      <td>6.21</td>\n",
       "      <td>29.61</td>\n",
       "      <td>18.81</td>\n",
       "      <td>4.54</td>\n",
       "      <td>104.80</td>\n",
       "      <td>0.29</td>\n",
       "    </tr>\n",
       "    <tr>\n",
       "      <th>min</th>\n",
       "      <td>5.81</td>\n",
       "      <td>24.77</td>\n",
       "      <td>-1.74</td>\n",
       "      <td>-1.79</td>\n",
       "      <td>0.21</td>\n",
       "      <td>7.37</td>\n",
       "      <td>-3.14</td>\n",
       "      <td>-1.98</td>\n",
       "      <td>0.00</td>\n",
       "    </tr>\n",
       "    <tr>\n",
       "      <th>25%</th>\n",
       "      <td>100.87</td>\n",
       "      <td>42.36</td>\n",
       "      <td>0.06</td>\n",
       "      <td>-0.19</td>\n",
       "      <td>1.91</td>\n",
       "      <td>14.76</td>\n",
       "      <td>5.80</td>\n",
       "      <td>38.13</td>\n",
       "      <td>0.00</td>\n",
       "    </tr>\n",
       "    <tr>\n",
       "      <th>50%</th>\n",
       "      <td>115.18</td>\n",
       "      <td>46.93</td>\n",
       "      <td>0.22</td>\n",
       "      <td>0.20</td>\n",
       "      <td>2.79</td>\n",
       "      <td>18.41</td>\n",
       "      <td>8.45</td>\n",
       "      <td>83.13</td>\n",
       "      <td>0.00</td>\n",
       "    </tr>\n",
       "    <tr>\n",
       "      <th>75%</th>\n",
       "      <td>127.11</td>\n",
       "      <td>50.98</td>\n",
       "      <td>0.42</td>\n",
       "      <td>0.93</td>\n",
       "      <td>5.41</td>\n",
       "      <td>26.47</td>\n",
       "      <td>10.73</td>\n",
       "      <td>135.77</td>\n",
       "      <td>0.00</td>\n",
       "    </tr>\n",
       "    <tr>\n",
       "      <th>max</th>\n",
       "      <td>189.73</td>\n",
       "      <td>91.81</td>\n",
       "      <td>8.07</td>\n",
       "      <td>68.10</td>\n",
       "      <td>222.42</td>\n",
       "      <td>110.64</td>\n",
       "      <td>34.54</td>\n",
       "      <td>1191.00</td>\n",
       "      <td>1.00</td>\n",
       "    </tr>\n",
       "  </tbody>\n",
       "</table>\n",
       "</div>"
      ],
      "text/plain": [
       "        IP Mean     IP Sd  IP Kurtosis  IP Skewness  DM-SNR Mean  DM-SNR Sd  \\\n",
       "count  12528.00  12528.00     12528.00     12528.00     12528.00   12528.00   \n",
       "mean     111.04     46.52         0.44         1.78        12.67      25.60   \n",
       "std       25.67      6.80         0.99         6.21        29.61      18.81   \n",
       "min        5.81     24.77        -1.74        -1.79         0.21       7.37   \n",
       "25%      100.87     42.36         0.06        -0.19         1.91      14.76   \n",
       "50%      115.18     46.93         0.22         0.20         2.79      18.41   \n",
       "75%      127.11     50.98         0.42         0.93         5.41      26.47   \n",
       "max      189.73     91.81         8.07        68.10       222.42     110.64   \n",
       "\n",
       "       DM-SNR Kurtosis  DM-SNR Skewness  target_class  \n",
       "count         12528.00         12528.00      12528.00  \n",
       "mean              8.33           104.41          0.09  \n",
       "std               4.54           104.80          0.29  \n",
       "min              -3.14            -1.98          0.00  \n",
       "25%               5.80            38.13          0.00  \n",
       "50%               8.45            83.13          0.00  \n",
       "75%              10.73           135.77          0.00  \n",
       "max              34.54          1191.00          1.00  "
      ]
     },
     "execution_count": 14,
     "metadata": {},
     "output_type": "execute_result"
    }
   ],
   "source": [
    "round(df.describe(),2)"
   ]
  },
  {
   "cell_type": "markdown",
   "id": "9e4823e9",
   "metadata": {},
   "source": [
    "Drawing boxplots to visualize outliers"
   ]
  },
  {
   "cell_type": "code",
   "execution_count": 15,
   "id": "5cc55346",
   "metadata": {},
   "outputs": [
    {
     "data": {
      "text/plain": [
       "Text(0, 0.5, 'DM-SNR Skewness')"
      ]
     },
     "execution_count": 15,
     "metadata": {},
     "output_type": "execute_result"
    },
    {
     "data": {
      "image/png": "[encoded data removed]",
      "text/plain": [
       "<Figure size 2400x2000 with 8 Axes>"
      ]
     },
     "metadata": {},
     "output_type": "display_data"
    }
   ],
   "source": [
    "plt.figure(figsize=(24,20))\n",
    "\n",
    "\n",
    "plt.subplot(4, 2, 1)\n",
    "fig = df.boxplot(column='IP Mean')\n",
    "fig.set_title('')\n",
    "fig.set_ylabel('IP Mean')\n",
    "\n",
    "\n",
    "plt.subplot(4, 2, 2)\n",
    "fig = df.boxplot(column='IP Sd')\n",
    "fig.set_title('')\n",
    "fig.set_ylabel('IP Sd')\n",
    "\n",
    "\n",
    "plt.subplot(4, 2, 3)\n",
    "fig = df.boxplot(column='IP Kurtosis')\n",
    "fig.set_title('')\n",
    "fig.set_ylabel('IP Kurtosis')\n",
    "\n",
    "\n",
    "plt.subplot(4, 2, 4)\n",
    "fig = df.boxplot(column='IP Skewness')\n",
    "fig.set_title('')\n",
    "fig.set_ylabel('IP Skewness')\n",
    "\n",
    "\n",
    "plt.subplot(4, 2, 5)\n",
    "fig = df.boxplot(column='DM-SNR Mean')\n",
    "fig.set_title('')\n",
    "fig.set_ylabel('DM-SNR Mean')\n",
    "\n",
    "\n",
    "plt.subplot(4, 2, 6)\n",
    "fig = df.boxplot(column='DM-SNR Sd')\n",
    "fig.set_title('')\n",
    "fig.set_ylabel('DM-SNR Sd')\n",
    "\n",
    "\n",
    "plt.subplot(4, 2, 7)\n",
    "fig = df.boxplot(column='DM-SNR Kurtosis')\n",
    "fig.set_title('')\n",
    "fig.set_ylabel('DM-SNR Kurtosis')\n",
    "\n",
    "\n",
    "plt.subplot(4, 2, 8)\n",
    "fig = df.boxplot(column='DM-SNR Skewness')\n",
    "fig.set_title('')\n",
    "fig.set_ylabel('DM-SNR Skewness')"
   ]
  },
  {
   "cell_type": "markdown",
   "id": "c0ee0af2",
   "metadata": {},
   "source": [
    "- We see that there are too mnay outliers in the dataset"
   ]
  },
  {
   "cell_type": "markdown",
   "id": "ec5d9772",
   "metadata": {},
   "source": [
    "There are 2 variants of SVMs. They are `hard-margin` variant of `SVM` and `soft-margin` variant of SVM.\n",
    "\n",
    "The hard-margin variant of SVM **does not deal with outliers**. In this case, we want to find the hyperplane with maximum margin such that every training point is correctly classified with margin at least 1. This technique does not handle outliers well.\n",
    "\n",
    "Another version of SVM is called soft-margin variant of SVM. In this case, we can have a **few points incorrectly classified** or classified with a margin less than 1. But for every such point, we have to pay a **penalty** in the form of `C` parameter, which controls the outliers. _Low C implies we are allowing more outliers and high C implies less outliers._\n",
    "\n",
    "The message is that since the dataset contains outliers, so the value of C should be high while training the model."
   ]
  },
  {
   "cell_type": "markdown",
   "id": "e177ec16",
   "metadata": {},
   "source": [
    "Checking distribution of variables"
   ]
  },
  {
   "cell_type": "code",
   "execution_count": 16,
   "id": "8d0d7a08",
   "metadata": {},
   "outputs": [
    {
     "data": {
      "image/png": "[encoded data removed]",
      "text/plain": [
       "<Figure size 2400x2000 with 8 Axes>"
      ]
     },
     "metadata": {},
     "output_type": "display_data"
    }
   ],
   "source": [
    "# The line plt.subplot(4, 2, 1) is used to create a subplot grid \n",
    "# with a total of 4 rows and 2 columns,\n",
    "# and then select the subplot in the first position.\n",
    "\n",
    "colors = ['#4c72b0', '#4169e1', '#6495ed', '#00bfff', \n",
    "          '#87ceeb', '#87cefa', '#4682b4', '#1e90ff']\n",
    "\n",
    "plt.figure(figsize=(24,20))\n",
    "\n",
    "plt.subplot(4, 2, 1)\n",
    "fig = df['IP Mean'].hist(bins=20, color=colors[0])\n",
    "fig.set_xlabel('IP Mean')\n",
    "fig.set_ylabel('Number of pulsar stars')\n",
    "\n",
    "plt.subplot(4, 2, 2)\n",
    "fig = df['IP Sd'].hist(bins=20, color=colors[1])\n",
    "fig.set_xlabel('IP Sd')\n",
    "fig.set_ylabel('Number of pulsar stars')\n",
    "\n",
    "plt.subplot(4, 2, 3)\n",
    "fig = df['IP Kurtosis'].hist(bins=20, color=colors[2])\n",
    "fig.set_xlabel('IP Kurtosis')\n",
    "fig.set_ylabel('Number of pulsar stars')\n",
    "\n",
    "plt.subplot(4, 2, 4)\n",
    "fig = df['IP Skewness'].hist(bins=20, color=colors[3])\n",
    "fig.set_xlabel('IP Skewness')\n",
    "fig.set_ylabel('Number of pulsar stars')\n",
    "\n",
    "plt.subplot(4, 2, 5)\n",
    "fig = df['DM-SNR Mean'].hist(bins=20, color=colors[4])\n",
    "fig.set_xlabel('DM-SNR Mean')\n",
    "fig.set_ylabel('Number of pulsar stars')\n",
    "\n",
    "plt.subplot(4, 2, 6)\n",
    "fig = df['DM-SNR Sd'].hist(bins=20, color=colors[5])\n",
    "fig.set_xlabel('DM-SNR Sd')\n",
    "fig.set_ylabel('Number of pulsar stars')\n",
    "\n",
    "plt.subplot(4, 2, 7)\n",
    "fig = df['DM-SNR Kurtosis'].hist(bins=20, color=colors[6])\n",
    "fig.set_xlabel('DM-SNR Kurtosis')\n",
    "fig.set_ylabel('Number of pulsar stars')\n",
    "\n",
    "plt.subplot(4, 2, 8)\n",
    "fig = df['DM-SNR Skewness'].hist(bins=20, color=colors[7])\n",
    "fig.set_xlabel('DM-SNR Skewness')\n",
    "fig.set_ylabel('Number of pulsar stars')\n",
    "\n",
    "plt.show()"
   ]
  },
  {
   "cell_type": "markdown",
   "id": "99ec4469",
   "metadata": {},
   "source": [
    "- We observe that all 8 variables are skewed"
   ]
  },
  {
   "cell_type": "markdown",
   "id": "a3be4898",
   "metadata": {},
   "source": [
    "Declaring feature vector and target variable"
   ]
  },
  {
   "cell_type": "code",
   "execution_count": 18,
   "id": "04c56d9f",
   "metadata": {},
   "outputs": [],
   "source": [
    "X=df.drop(['target_class'],axis=1)\n",
    "y=df['target_class']"
   ]
  },
  {
   "cell_type": "markdown",
   "id": "117804e9",
   "metadata": {},
   "source": [
    "### 5. Split data into separate training and test set \n"
   ]
  },
  {
   "cell_type": "code",
   "execution_count": 19,
   "id": "591df442",
   "metadata": {},
   "outputs": [],
   "source": [
    "from sklearn.model_selection import train_test_split\n",
    "X_train,X_test,y_train,y_test=train_test_split(X,y,test_size=0.2,random_state=0)"
   ]
  },
  {
   "cell_type": "markdown",
   "id": "09d72b19",
   "metadata": {},
   "source": [
    "### 6. Feature Scaling"
   ]
  },
  {
   "cell_type": "code",
   "execution_count": 20,
   "id": "92dd8818",
   "metadata": {},
   "outputs": [],
   "source": [
    "cols=X_train.columns"
   ]
  },
  {
   "cell_type": "code",
   "execution_count": 21,
   "id": "37135ce3",
   "metadata": {},
   "outputs": [],
   "source": [
    "from sklearn.preprocessing import StandardScaler\n",
    "scaler=StandardScaler()\n",
    "X_train=scaler.fit_transform(X_train)\n",
    "X_test=scaler.transform(X_test)"
   ]
  },
  {
   "cell_type": "code",
   "execution_count": 22,
   "id": "6e6fbc72",
   "metadata": {},
   "outputs": [],
   "source": [
    "X_train=pd.DataFrame(X_train,columns=[cols])\n",
    "X_test=pd.DataFrame(X_test,columns=[cols])"
   ]
  },
  {
   "cell_type": "markdown",
   "id": "42d03a9f",
   "metadata": {},
   "source": [
    "We have X_train dataset ready to be fed"
   ]
  },
  {
   "cell_type": "markdown",
   "id": "637b7897",
   "metadata": {},
   "source": [
    "### 7. Run SVM with default hyperparameters "
   ]
  },
  {
   "cell_type": "markdown",
   "id": "5bfb598d",
   "metadata": {},
   "source": [
    "Default hyperparameter:<br>\n",
    "<br>\n",
    "- C=1.0<br>\n",
    "- kernel=rbf(Radial Basis Function Kernel)<br>\n",
    "- gamma=auto<br><br>\n",
    " `Radial Basis Function Kernel`:\n",
    "_is a general purpose kernel. It is used when we have no prior knowledge about the data._\n"
   ]
  },
  {
   "cell_type": "code",
   "execution_count": 24,
   "id": "bd08a765",
   "metadata": {},
   "outputs": [
    {
     "name": "stdout",
     "output_type": "stream",
     "text": [
      "Model accuracy score with default hyperparameters: 0.9792\n"
     ]
    }
   ],
   "source": [
    "# import SVC classifier\n",
    "from sklearn.svm import SVC\n",
    "\n",
    "# import metrics to compute accuracy\n",
    "from sklearn.metrics import accuracy_score\n",
    "\n",
    "# instantiate classifier with default hyperparameters\n",
    "svc=SVC() \n",
    "\n",
    "# fit classifier to training set\n",
    "svc.fit(X_train,y_train)\n",
    "\n",
    "# make predictions on test set\n",
    "y_pred=svc.predict(X_test)\n",
    "\n",
    "# compute and print accuracy score\n",
    "print('Model accuracy score with default hyperparameters: {0:0.4f}'. format(accuracy_score(y_test, y_pred)))"
   ]
  },
  {
   "cell_type": "markdown",
   "id": "f66276af",
   "metadata": {},
   "source": [
    "##### Run SVM with rbf kernel and C=1.0 and gamma=auto"
   ]
  },
  {
   "cell_type": "markdown",
   "id": "d98d7970",
   "metadata": {},
   "source": [
    "- Note: Lower C means higher number rof outliers"
   ]
  },
  {
   "cell_type": "code",
   "execution_count": 25,
   "id": "47c4ec2e",
   "metadata": {},
   "outputs": [
    {
     "name": "stdout",
     "output_type": "stream",
     "text": [
      "Model accuracy score with default hyperparameters: 0.9792\n"
     ]
    }
   ],
   "source": [
    "svc=SVC(C=1.0) \n",
    "\n",
    "# fit classifier to training set\n",
    "svc.fit(X_train,y_train)\n",
    "\n",
    "# make predictions on test set\n",
    "y_pred=svc.predict(X_test)\n",
    "\n",
    "# compute and print accuracy score\n",
    "print('Model accuracy score with default hyperparameters: {0:0.4f}'. format(accuracy_score(y_test, y_pred)))"
   ]
  },
  {
   "cell_type": "markdown",
   "id": "7fbee58e",
   "metadata": {},
   "source": [
    "##### Run SVM with rbf kernel and C=100.0 and gamma=auto"
   ]
  },
  {
   "cell_type": "code",
   "execution_count": 26,
   "id": "545ce763",
   "metadata": {},
   "outputs": [
    {
     "name": "stdout",
     "output_type": "stream",
     "text": [
      "Model accuracy score with rbf kernel and C=100: 0.9796\n"
     ]
    }
   ],
   "source": [
    "svc=SVC(C=100.0) \n",
    "\n",
    "# fit classifier to training set\n",
    "svc.fit(X_train,y_train)\n",
    "\n",
    "# make predictions on test set\n",
    "y_pred=svc.predict(X_test)\n",
    "\n",
    "# compute and print accuracy score\n",
    "print('Model accuracy score with rbf kernel and C=100: {0:0.4f}'. format(accuracy_score(y_test, y_pred)))"
   ]
  },
  {
   "cell_type": "markdown",
   "id": "8a70ed77",
   "metadata": {},
   "source": [
    "- We obtained higher accuracy for a higher C value. Which implies lesser outliers"
   ]
  },
  {
   "cell_type": "markdown",
   "id": "b76c41df",
   "metadata": {},
   "source": [
    "##### Run SVM with rbf kernel and C=1000.0 and gamma=auto"
   ]
  },
  {
   "cell_type": "code",
   "execution_count": 27,
   "id": "228a05de",
   "metadata": {},
   "outputs": [
    {
     "name": "stdout",
     "output_type": "stream",
     "text": [
      "Model accuracy score with rbf kernel and C=1000: 0.9804\n"
     ]
    }
   ],
   "source": [
    "svc=SVC(C=1000.0) \n",
    "\n",
    "# fit classifier to training set\n",
    "svc.fit(X_train,y_train)\n",
    "\n",
    "# make predictions on test set\n",
    "y_pred=svc.predict(X_test)\n",
    "\n",
    "# compute and print accuracy score\n",
    "print('Model accuracy score with rbf kernel and C=1000: {0:0.4f}'. format(accuracy_score(y_test, y_pred)))"
   ]
  },
  {
   "cell_type": "markdown",
   "id": "b79912e6",
   "metadata": {},
   "source": [
    "- on further increasing C value, we see that accuracy is reduced"
   ]
  },
  {
   "cell_type": "markdown",
   "id": "499f1448",
   "metadata": {},
   "source": [
    "### 8. Run SVM with linear kernel"
   ]
  },
  {
   "cell_type": "markdown",
   "id": "221b8b29",
   "metadata": {},
   "source": [
    "##### Run SVM with linear kernel and C=1.0"
   ]
  },
  {
   "cell_type": "code",
   "execution_count": 28,
   "id": "4b005742",
   "metadata": {},
   "outputs": [
    {
     "name": "stdout",
     "output_type": "stream",
     "text": [
      "Model accuracy score with linear kernel and C=1.0 : 0.9773\n"
     ]
    }
   ],
   "source": [
    "# instantiate classifier with linear kernel and C=1.0\n",
    "linear_svc=SVC(kernel='linear', C=1.0) \n",
    "\n",
    "# fit classifier to training set\n",
    "linear_svc.fit(X_train,y_train)\n",
    "\n",
    "# make predictions on test set\n",
    "y_pred_test=linear_svc.predict(X_test)\n",
    "\n",
    "# compute and print accuracy score\n",
    "print('Model accuracy score with linear kernel and C=1.0 : {0:0.4f}'. format(accuracy_score(y_test, y_pred_test)))"
   ]
  },
  {
   "cell_type": "markdown",
   "id": "4c284462",
   "metadata": {},
   "source": [
    "##### Run SVM with linear kernel and C=100.0"
   ]
  },
  {
   "cell_type": "code",
   "execution_count": 29,
   "id": "181a7472",
   "metadata": {
    "scrolled": true
   },
   "outputs": [
    {
     "name": "stdout",
     "output_type": "stream",
     "text": [
      "Model accuracy score with linear kernel and C=100.0 : 0.9777\n"
     ]
    }
   ],
   "source": [
    "# instantiate classifier with linear kernel and C=100.0\n",
    "linear_svc=SVC(kernel='linear', C=100.0) \n",
    "\n",
    "# fit classifier to training set\n",
    "linear_svc.fit(X_train,y_train)\n",
    "\n",
    "# make predictions on test set\n",
    "y_pred_test=linear_svc.predict(X_test)\n",
    "\n",
    "# compute and print accuracy score\n",
    "print('Model accuracy score with linear kernel and C=100.0 : {0:0.4f}'. format(accuracy_score(y_test, y_pred_test)))"
   ]
  },
  {
   "cell_type": "code",
   "execution_count": null,
   "id": "b5ea2694",
   "metadata": {},
   "outputs": [],
   "source": []
  },
  {
   "cell_type": "markdown",
   "id": "b096de8e",
   "metadata": {},
   "source": [
    "##### Run SVM with linear kernel and C=1000.0"
   ]
  },
  {
   "cell_type": "code",
   "execution_count": 30,
   "id": "72bcfcdb",
   "metadata": {},
   "outputs": [
    {
     "name": "stdout",
     "output_type": "stream",
     "text": [
      "Model accuracy score with linear kernel and C=1000.0 : 0.9777\n"
     ]
    }
   ],
   "source": [
    "# instantiate classifier with linear kernel and C=1000.0\n",
    "linear_svc=SVC(kernel='linear', C=1000.0) \n",
    "\n",
    "# fit classifier to training set\n",
    "linear_svc.fit(X_train,y_train)\n",
    "\n",
    "# make predictions on test set\n",
    "y_pred_test=linear_svc.predict(X_test)\n",
    "\n",
    "# compute and print accuracy score\n",
    "print('Model accuracy score with linear kernel and C=1000.0 : {0:0.4f}'. format(accuracy_score(y_test, y_pred_test)))"
   ]
  },
  {
   "cell_type": "markdown",
   "id": "22601990",
   "metadata": {},
   "source": [
    "- In this case we obtained higher accuracy for C=100 and C=1000"
   ]
  },
  {
   "cell_type": "markdown",
   "id": "41937fd6",
   "metadata": {},
   "source": [
    "##### Comparing train set and test set accuracy"
   ]
  },
  {
   "cell_type": "code",
   "execution_count": 31,
   "id": "dca6e35a",
   "metadata": {},
   "outputs": [
    {
     "name": "stdout",
     "output_type": "stream",
     "text": [
      "Training-set accuracy score: 0.9756\n"
     ]
    }
   ],
   "source": [
    "#Checking accuracy of the train-set\n",
    "y_pred_train = linear_svc.predict(X_train)\n",
    "print('Training-set accuracy score: {0:0.4f}'. format(accuracy_score(y_train, y_pred_train)))"
   ]
  },
  {
   "cell_type": "code",
   "execution_count": 32,
   "id": "979921ec",
   "metadata": {},
   "outputs": [
    {
     "name": "stdout",
     "output_type": "stream",
     "text": [
      "Training set score: 0.9756\n",
      "Test set score: 0.9777\n"
     ]
    }
   ],
   "source": [
    "#Check for overfitting and underfitting\n",
    "print('Training set score: {:.4f}'.format(linear_svc.score(X_train, y_train)))\n",
    "\n",
    "print('Test set score: {:.4f}'.format(linear_svc.score(X_test, y_test)))\n"
   ]
  },
  {
   "cell_type": "markdown",
   "id": "4568c3ff",
   "metadata": {},
   "source": [
    "We can see that the training set and test-set accuracy are very much comparable.\n",
    "So, no overfitting"
   ]
  },
  {
   "cell_type": "markdown",
   "id": "08989bc6",
   "metadata": {},
   "source": [
    "### 9. Run SVM with polynomial kernel"
   ]
  },
  {
   "cell_type": "markdown",
   "id": "939fb862",
   "metadata": {},
   "source": [
    "##### Run SVM with polynomial kernel and C=1.0"
   ]
  },
  {
   "cell_type": "code",
   "execution_count": 31,
   "id": "dad07444",
   "metadata": {},
   "outputs": [
    {
     "name": "stdout",
     "output_type": "stream",
     "text": [
      "Model accuracy score with polynomial kernel and C=1.0 : 0.9761\n"
     ]
    }
   ],
   "source": [
    "# instantiate classifier with polynomial kernel and C=1.0\n",
    "poly_svc=SVC(kernel='poly', C=1.0) \n",
    "\n",
    "# fit classifier to training set\n",
    "poly_svc.fit(X_train,y_train)\n",
    "\n",
    "# make predictions on test set\n",
    "y_pred=poly_svc.predict(X_test)\n",
    "\n",
    "# compute and print accuracy score\n",
    "print('Model accuracy score with polynomial kernel and C=1.0 : {0:0.4f}'. format(accuracy_score(y_test, y_pred)))"
   ]
  },
  {
   "cell_type": "markdown",
   "id": "41eba9bc",
   "metadata": {},
   "source": [
    "##### Run SVM with polynomial kernel and C=100.0"
   ]
  },
  {
   "cell_type": "code",
   "execution_count": 32,
   "id": "c9c8f388",
   "metadata": {},
   "outputs": [
    {
     "name": "stdout",
     "output_type": "stream",
     "text": [
      "Model accuracy score with polynomial kernel and C=100.0 : 0.9796\n"
     ]
    }
   ],
   "source": [
    "# instantiate classifier with polynomial kernel and C=100.0\n",
    "poly_svc=SVC(kernel='poly', C=100.0) \n",
    "\n",
    "\n",
    "# fit classifier to training set\n",
    "poly_svc.fit(X_train,y_train)\n",
    "\n",
    "\n",
    "# make predictions on test set\n",
    "y_pred=poly_svc.predict(X_test)\n",
    "\n",
    "\n",
    "# compute and print accuracy score\n",
    "print('Model accuracy score with polynomial kernel and C=100.0 : {0:0.4f}'. format(accuracy_score(y_test, y_pred)))"
   ]
  },
  {
   "cell_type": "markdown",
   "id": "51d1ad98",
   "metadata": {},
   "source": [
    "##### Run SVM with polynomial kernel and C=1000.0"
   ]
  },
  {
   "cell_type": "code",
   "execution_count": 33,
   "id": "bd988c0d",
   "metadata": {},
   "outputs": [
    {
     "name": "stdout",
     "output_type": "stream",
     "text": [
      "Model accuracy score with polynomial kernel and C=1000.0 : 0.9789\n"
     ]
    }
   ],
   "source": [
    "# instantiate classifier with polynomial kernel and C=1000.0\n",
    "poly_svc=SVC(kernel='poly', C=1000.0) \n",
    "\n",
    "\n",
    "# fit classifier to training set\n",
    "poly_svc.fit(X_train,y_train)\n",
    "\n",
    "\n",
    "# make predictions on test set\n",
    "y_pred=poly_svc.predict(X_test)\n",
    "\n",
    "\n",
    "# compute and print accuracy score\n",
    "print('Model accuracy score with polynomial kernel and C=1000.0 : {0:0.4f}'. format(accuracy_score(y_test, y_pred)))"
   ]
  },
  {
   "cell_type": "markdown",
   "id": "cc580eca",
   "metadata": {},
   "source": [
    "### 10. Run SVM with sigmoid kernel \n"
   ]
  },
  {
   "cell_type": "markdown",
   "id": "2ec4c824",
   "metadata": {},
   "source": [
    "##### Run SVM with sigmoid kernel and C=1.0, C=100.0, C=1000.0"
   ]
  },
  {
   "cell_type": "code",
   "execution_count": 34,
   "id": "80df487b",
   "metadata": {},
   "outputs": [
    {
     "name": "stdout",
     "output_type": "stream",
     "text": [
      "Model accuracy score with sigmoid kernel and C=1.0 : 0.8679\n"
     ]
    }
   ],
   "source": [
    "# instantiate classifier with sigmoid kernel and C=1.0\n",
    "sigmoid_svc=SVC(kernel='sigmoid', C=1.0) \n",
    "\n",
    "# fit classifier to training set\n",
    "sigmoid_svc.fit(X_train,y_train)\n",
    "\n",
    "# make predictions on test set\n",
    "y_pred=sigmoid_svc.predict(X_test)\n",
    "\n",
    "# compute and print accuracy score\n",
    "print('Model accuracy score with sigmoid kernel and C=1.0 : {0:0.4f}'. format(accuracy_score(y_test, y_pred)))"
   ]
  },
  {
   "cell_type": "code",
   "execution_count": 35,
   "id": "1193a9b2",
   "metadata": {},
   "outputs": [
    {
     "name": "stdout",
     "output_type": "stream",
     "text": [
      "Model accuracy score with sigmoid kernel and C=100.0 : 0.8675\n"
     ]
    }
   ],
   "source": [
    "# instantiate classifier with sigmoid kernel and C=100.0\n",
    "sigmoid_svc=SVC(kernel='sigmoid', C=100.0) \n",
    "\n",
    "# fit classifier to training set\n",
    "sigmoid_svc.fit(X_train,y_train)\n",
    "\n",
    "# make predictions on test set\n",
    "y_pred=sigmoid_svc.predict(X_test)\n",
    "\n",
    "# compute and print accuracy score\n",
    "print('Model accuracy score with sigmoid kernel and C=100.0 : {0:0.4f}'. format(accuracy_score(y_test, y_pred)))"
   ]
  },
  {
   "cell_type": "code",
   "execution_count": 36,
   "id": "0efd1b18",
   "metadata": {},
   "outputs": [
    {
     "name": "stdout",
     "output_type": "stream",
     "text": [
      "Model accuracy score with sigmoid kernel and C=1000.0 : 0.8675\n"
     ]
    }
   ],
   "source": [
    "# instantiate classifier with sigmoid kernel and C=1.0\n",
    "sigmoid_svc=SVC(kernel='sigmoid', C=1000.0) \n",
    "\n",
    "# fit classifier to training set\n",
    "sigmoid_svc.fit(X_train,y_train)\n",
    "\n",
    "# make predictions on test set\n",
    "y_pred=sigmoid_svc.predict(X_test)\n",
    "\n",
    "# compute and print accuracy score\n",
    "print('Model accuracy score with sigmoid kernel and C=1000.0 : {0:0.4f}'. format(accuracy_score(y_test, y_pred)))"
   ]
  },
  {
   "cell_type": "markdown",
   "id": "c5a97c99",
   "metadata": {},
   "source": [
    "- We see that sigmoid kernel gives a very poor performance"
   ]
  },
  {
   "cell_type": "markdown",
   "id": "49186db7",
   "metadata": {},
   "source": [
    "### We got maximum accuracy for SVM with `rbf kernel` and `C=100.0` and gamma=auto.\n",
    "### Accuracy score obtained was `0.9812`"
   ]
  },
  {
   "cell_type": "markdown",
   "id": "a8a7179c",
   "metadata": {},
   "source": [
    "### 13. visualize confusion matrix with seaborn heatmap\n"
   ]
  },
  {
   "cell_type": "code",
   "execution_count": 33,
   "id": "b8695415",
   "metadata": {},
   "outputs": [
    {
     "name": "stdout",
     "output_type": "stream",
     "text": [
      "Confusion matrix\n",
      "\n",
      " [[2277    8]\n",
      " [  48  173]]\n",
      "\n",
      "True Positives(TP) =  2277\n",
      "\n",
      "True Negatives(TN) =  173\n",
      "\n",
      "False Positives(FP) =  8\n",
      "\n",
      "False Negatives(FN) =  48\n"
     ]
    }
   ],
   "source": [
    "# Print the Confusion Matrix and slice it into four pieces\n",
    "from sklearn.metrics import confusion_matrix\n",
    "cm = confusion_matrix(y_test, y_pred_test)\n",
    "print('Confusion matrix\\n\\n', cm)\n",
    "print('\\nTrue Positives(TP) = ', cm[0,0])\n",
    "print('\\nTrue Negatives(TN) = ', cm[1,1])\n",
    "print('\\nFalse Positives(FP) = ', cm[0,1])\n",
    "print('\\nFalse Negatives(FN) = ', cm[1,0])"
   ]
  },
  {
   "cell_type": "code",
   "execution_count": 34,
   "id": "2ed244e3",
   "metadata": {},
   "outputs": [
    {
     "data": {
      "text/plain": [
       "<Axes: >"
      ]
     },
     "execution_count": 34,
     "metadata": {},
     "output_type": "execute_result"
    },
    {
     "data": {
      "image/png": "[encoded data removed]",
      "text/plain": [
       "<Figure size 640x480 with 2 Axes>"
      ]
     },
     "metadata": {},
     "output_type": "display_data"
    }
   ],
   "source": [
    "# visualize confusion matrix with seaborn heatmap\n",
    "cm_matrix = pd.DataFrame(data=cm, columns=['Actual Positive:1', 'Actual Negative:0'], \n",
    "                                 index=['Predict Positive:1', 'Predict Negative:0'])\n",
    "\n",
    "sns.heatmap(cm_matrix, annot=True, fmt='d', cmap='YlGnBu')"
   ]
  },
  {
   "cell_type": "markdown",
   "id": "effbff73",
   "metadata": {},
   "source": [
    "### 14. Generate classification report \n"
   ]
  },
  {
   "cell_type": "markdown",
   "id": "89a4bfda",
   "metadata": {},
   "source": [
    "Classification report is another way to evaluate the classification model performance. It displays the precision, recall, f1 and support scores for the model."
   ]
  },
  {
   "cell_type": "code",
   "execution_count": 35,
   "id": "29a979e6",
   "metadata": {},
   "outputs": [
    {
     "name": "stdout",
     "output_type": "stream",
     "text": [
      "              precision    recall  f1-score   support\n",
      "\n",
      "         0.0       0.98      1.00      0.99      2285\n",
      "         1.0       0.96      0.78      0.86       221\n",
      "\n",
      "    accuracy                           0.98      2506\n",
      "   macro avg       0.97      0.89      0.92      2506\n",
      "weighted avg       0.98      0.98      0.98      2506\n",
      "\n"
     ]
    }
   ],
   "source": [
    "from sklearn.metrics import classification_report\n",
    "print(classification_report(y_test, y_pred_test))"
   ]
  },
  {
   "cell_type": "markdown",
   "id": "9ac4e88c",
   "metadata": {},
   "source": [
    "### 15. Evaluate classification accuracy\n"
   ]
  },
  {
   "cell_type": "code",
   "execution_count": 36,
   "id": "52755638",
   "metadata": {},
   "outputs": [],
   "source": [
    "TP = cm[0,0]\n",
    "TN = cm[1,1]\n",
    "FP = cm[0,1]\n",
    "FN = cm[1,0]"
   ]
  },
  {
   "cell_type": "code",
   "execution_count": 37,
   "id": "5b831ca0",
   "metadata": {},
   "outputs": [
    {
     "name": "stdout",
     "output_type": "stream",
     "text": [
      "Classification accuracy : 0.9777\n"
     ]
    }
   ],
   "source": [
    "# print classification accuracy\n",
    "classification_accuracy = (TP + TN) / float(TP + TN + FP + FN)\n",
    "print('Classification accuracy : {0:0.4f}'.format(classification_accuracy))"
   ]
  },
  {
   "cell_type": "markdown",
   "id": "417b089b",
   "metadata": {},
   "source": [
    "### 16. Evaluate Classification error\n"
   ]
  },
  {
   "cell_type": "code",
   "execution_count": 38,
   "id": "9dbba554",
   "metadata": {},
   "outputs": [
    {
     "name": "stdout",
     "output_type": "stream",
     "text": [
      "Classification error : 0.0223\n"
     ]
    }
   ],
   "source": [
    "classification_error = (FP + FN) / float(TP + TN + FP + FN)\n",
    "\n",
    "print('Classification error : {0:0.4f}'.format(classification_error))"
   ]
  },
  {
   "cell_type": "markdown",
   "id": "f6f21b51",
   "metadata": {},
   "source": [
    "### 17. Plot ROC Curve\n"
   ]
  },
  {
   "cell_type": "code",
   "execution_count": 39,
   "id": "83b165bf",
   "metadata": {},
   "outputs": [
    {
     "data": {
      "image/png": "[encoded data removed]",
      "text/plain": [
       "<Figure size 600x400 with 1 Axes>"
      ]
     },
     "metadata": {},
     "output_type": "display_data"
    }
   ],
   "source": [
    "from sklearn.metrics import roc_curve\n",
    "\n",
    "fpr, tpr, thresholds = roc_curve(y_test, y_pred_test)\n",
    "plt.figure(figsize=(6,4))\n",
    "plt.plot(fpr, tpr, linewidth=2)\n",
    "plt.plot([0,1], [0,1], 'k--' )\n",
    "plt.rcParams['font.size'] = 12\n",
    "plt.title('ROC curve for Predicting a Pulsar Star classifier')\n",
    "plt.xlabel('False Positive Rate (1 - Specificity)')\n",
    "plt.ylabel('True Positive Rate (Sensitivity)')\n",
    "plt.show()"
   ]
  },
  {
   "cell_type": "markdown",
   "id": "5095fdfa",
   "metadata": {},
   "source": [
    "### 18. Compute ROC AUC\n"
   ]
  },
  {
   "cell_type": "code",
   "execution_count": 40,
   "id": "950b2801",
   "metadata": {},
   "outputs": [
    {
     "name": "stdout",
     "output_type": "stream",
     "text": [
      "ROC AUC : 0.8897\n"
     ]
    }
   ],
   "source": [
    "from sklearn.metrics import roc_auc_score\n",
    "\n",
    "ROC_AUC = roc_auc_score(y_test, y_pred_test)\n",
    "print('ROC AUC : {:.4f}'.format(ROC_AUC))"
   ]
  },
  {
   "cell_type": "markdown",
   "id": "3a14a808",
   "metadata": {},
   "source": [
    "- ROC AUC is a single number summary of classifier performance. The higher the value, the better the classifier.\n",
    "\n",
    "- ROC AUC of our model approaches towards 1. So, we can conclude that our classifier does a good job in classifying the pulsar star."
   ]
  },
  {
   "cell_type": "code",
   "execution_count": 41,
   "id": "f81f092f",
   "metadata": {},
   "outputs": [
    {
     "name": "stdout",
     "output_type": "stream",
     "text": [
      "Cross validated ROC AUC : 0.9651\n"
     ]
    }
   ],
   "source": [
    "# calculate cross-validated ROC AUC \n",
    "\n",
    "from sklearn.model_selection import cross_val_score\n",
    "\n",
    "Cross_validated_ROC_AUC = cross_val_score(linear_svc, X_train, y_train, cv=10, scoring='roc_auc').mean()\n",
    "\n",
    "print('Cross validated ROC AUC : {:.4f}'.format(Cross_validated_ROC_AUC))"
   ]
  },
  {
   "cell_type": "markdown",
   "id": "0c747b85",
   "metadata": {},
   "source": [
    "### 19. Stratified k-fold cross-validation with shuffle split with linear kernel\n"
   ]
  },
  {
   "cell_type": "markdown",
   "id": "40ac987e",
   "metadata": {},
   "source": [
    "k-fold cross-validation is a very useful technique to evaluate model performance. But, it fails here because we have a imbalnced dataset. So, in the case of imbalanced dataset, we will use another technique to evaluate model performance. It is called stratified k-fold cross-validation.\n",
    "\n",
    "In stratified k-fold cross-validation, we split the data such that the proportions between classes are the same in each fold as they are in the whole dataset.\n",
    "\n",
    "Moreover, I will shuffle the data before splitting because shuffling yields much better result."
   ]
  },
  {
   "cell_type": "code",
   "execution_count": null,
   "id": "40367335",
   "metadata": {},
   "outputs": [],
   "source": [
    "from sklearn.model_selection import KFold\n",
    "kfold=KFold(n_splits=5, shuffle=True, random_state=0)\n",
    "linear_svc=SVC(kernel='linear')\n",
    "linear_scores = cross_val_score(linear_svc, X, y, cv=kfold)"
   ]
  },
  {
   "cell_type": "code",
   "execution_count": null,
   "id": "8735c13a",
   "metadata": {},
   "outputs": [],
   "source": [
    "# print cross-validation scores with linear kernel\n",
    "\n",
    "print('Stratified cross-validation scores with linear kernel:\\n\\n{}'.format(linear_scores))"
   ]
  },
  {
   "cell_type": "code",
   "execution_count": null,
   "id": "2b9fbdb1",
   "metadata": {},
   "outputs": [],
   "source": [
    "print('Average stratified cross-validation score with linear kernel:{:.4f}'.format(linear_scores.mean()))"
   ]
  },
  {
   "cell_type": "markdown",
   "id": "c7d288d4",
   "metadata": {},
   "source": [
    "### 21. Stratified k-fold cross-validation with shuffle split with rbf kernel\n"
   ]
  },
  {
   "cell_type": "code",
   "execution_count": null,
   "id": "842bef3a",
   "metadata": {},
   "outputs": [],
   "source": [
    "rbf_svc=SVC(kernel='rbf')\n",
    "rbf_scores = cross_val_score(rbf_svc, X, y, cv=kfold)"
   ]
  },
  {
   "cell_type": "code",
   "execution_count": null,
   "id": "ca749d5f",
   "metadata": {},
   "outputs": [],
   "source": [
    "# print cross-validation scores with rbf kernel\n",
    "print('Stratified Cross-validation scores with rbf kernel:\\n\\n{}'.format(rbf_scores))"
   ]
  },
  {
   "cell_type": "code",
   "execution_count": null,
   "id": "d7eebd66",
   "metadata": {},
   "outputs": [],
   "source": [
    "print('Average stratified cross-validation score with rbf kernel:{:.4f}'.format(rbf_scores.mean()))"
   ]
  },
  {
   "cell_type": "markdown",
   "id": "38fb5c88",
   "metadata": {},
   "source": [
    "### 22. Stratified k-fold cross-validation with shuffle split with polynomial kernel\n"
   ]
  },
  {
   "cell_type": "code",
   "execution_count": null,
   "id": "a3f70134",
   "metadata": {},
   "outputs": [],
   "source": [
    "# Create the SVM model with polynomial kernel\n",
    "poly_svc = SVC(kernel='poly')\n",
    "\n",
    "# Create Stratified k-fold cross-validator with shuffle split\n",
    "stratified_kfold = StratifiedKFold(n_splits=5, shuffle=True)\n",
    "\n",
    "# Perform cross-validation\n",
    "poly_scores = cross_val_score(poly_svc, X, y, cv=stratified_kfold)\n",
    "\n",
    "# Print cross-validation scores with polynomial kernel\n",
    "print('Stratified Cross-validation scores with polynomial kernel:\\n\\n{}'.format(poly_scores))\n",
    "\n",
    "# Print average stratified cross-validation score with polynomial kernel\n",
    "print('Average stratified cross-validation score with polynomial kernel: {:.4f}'.format(poly_scores.mean()))\n"
   ]
  },
  {
   "cell_type": "markdown",
   "id": "2f450676",
   "metadata": {},
   "source": [
    "### 23. Stratified k-fold cross-validation with shuffle split with sigmoid kernel\n"
   ]
  },
  {
   "cell_type": "code",
   "execution_count": null,
   "id": "8fcd22b6",
   "metadata": {},
   "outputs": [],
   "source": [
    "# Create the SVM model with sigmoid kernel\n",
    "sigmoid_svc = SVC(kernel='sigmoid')\n",
    "\n",
    "# Create Stratified k-fold cross-validator with shuffle split\n",
    "stratified_kfold = StratifiedKFold(n_splits=5, shuffle=True)\n",
    "\n",
    "# Perform cross-validation\n",
    "sigmoid_scores = cross_val_score(sigmoid_svc, X, y, cv=stratified_kfold)\n",
    "\n",
    "# Print cross-validation scores with sigmoid kernel\n",
    "print('Stratified Cross-validation scores with sigmoid kernel:\\n\\n{}'.format(sigmoid_scores))\n",
    "\n",
    "# Print average stratified cross-validation score with sigmoid kernel\n",
    "print('Average stratified cross-validation score with sigmoid kernel: {:.4f}'.format(sigmoid_scores.mean()))\n"
   ]
  },
  {
   "cell_type": "code",
   "execution_count": null,
   "id": "bc9d345b",
   "metadata": {},
   "outputs": [],
   "source": []
  }
 ],
 "metadata": {
  "kernelspec": {
   "display_name": "Python 3 (ipykernel)",
   "language": "python",
   "name": "python3"
  },
  "language_info": {
   "codemirror_mode": {
    "name": "ipython",
    "version": 3
   },
   "file_extension": ".py",
   "mimetype": "text/x-python",
   "name": "python",
   "nbconvert_exporter": "python",
   "pygments_lexer": "ipython3",
   "version": "3.11.4"
  }
 },
 "nbformat": 4,
 "nbformat_minor": 5
}
