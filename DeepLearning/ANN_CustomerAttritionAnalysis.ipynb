{
 "cells": [
  {
   "cell_type": "raw",
   "metadata": {},
   "source": [
    "Name: Shriya Bhat\n",
    "Reg: 220968020\n",
    "Section: DSE A1"
   ]
  },
  {
   "cell_type": "markdown",
   "metadata": {},
   "source": [
    "references: https://www.youtube.com/watch?v=9wmImImmgcI&list=PLKnIA16_RmvYuZauWaPlRTC54KxSNLtNn&index=11\n",
    "https://www.kaggle.com/datasets/filippoo/deep-learning-az-ann"
   ]
  },
  {
   "cell_type": "code",
   "execution_count": 1,
   "metadata": {
    "_cell_guid": "b1076dfc-b9ad-4769-8c92-a6c4dae69d19",
    "_uuid": "8f2839f25d086af736a60e9eeb907d3b93b6e0e5",
    "execution": {
     "iopub.execute_input": "2022-03-06T03:32:33.905991Z",
     "iopub.status.busy": "2022-03-06T03:32:33.905585Z",
     "iopub.status.idle": "2022-03-06T03:32:33.939484Z",
     "shell.execute_reply": "2022-03-06T03:32:33.938880Z",
     "shell.execute_reply.started": "2022-03-06T03:32:33.905892Z"
    }
   },
   "outputs": [],
   "source": [
    "import numpy as np \n",
    "import pandas as pd "
   ]
  },
  {
   "cell_type": "code",
   "execution_count": 2,
   "metadata": {
    "execution": {
     "iopub.execute_input": "2022-03-06T03:32:56.586925Z",
     "iopub.status.busy": "2022-03-06T03:32:56.586618Z",
     "iopub.status.idle": "2022-03-06T03:32:56.633466Z",
     "shell.execute_reply": "2022-03-06T03:32:56.632634Z",
     "shell.execute_reply.started": "2022-03-06T03:32:56.586892Z"
    }
   },
   "outputs": [],
   "source": [
    "df = pd.read_csv('customer_attrition.csv')"
   ]
  },
  {
   "cell_type": "code",
   "execution_count": 5,
   "metadata": {
    "execution": {
     "iopub.execute_input": "2022-03-06T03:33:04.565582Z",
     "iopub.status.busy": "2022-03-06T03:33:04.565302Z",
     "iopub.status.idle": "2022-03-06T03:33:04.590711Z",
     "shell.execute_reply": "2022-03-06T03:33:04.590106Z",
     "shell.execute_reply.started": "2022-03-06T03:33:04.565552Z"
    }
   },
   "outputs": [
    {
     "data": {
      "text/html": [
       "<div>\n",
       "<style scoped>\n",
       "    .dataframe tbody tr th:only-of-type {\n",
       "        vertical-align: middle;\n",
       "    }\n",
       "\n",
       "    .dataframe tbody tr th {\n",
       "        vertical-align: top;\n",
       "    }\n",
       "\n",
       "    .dataframe thead th {\n",
       "        text-align: right;\n",
       "    }\n",
       "</style>\n",
       "<table border=\"1\" class=\"dataframe\">\n",
       "  <thead>\n",
       "    <tr style=\"text-align: right;\">\n",
       "      <th></th>\n",
       "      <th>RowNumber</th>\n",
       "      <th>CustomerId</th>\n",
       "      <th>Surname</th>\n",
       "      <th>CreditScore</th>\n",
       "      <th>Geography</th>\n",
       "      <th>Gender</th>\n",
       "      <th>Age</th>\n",
       "      <th>Tenure</th>\n",
       "      <th>Balance</th>\n",
       "      <th>NumOfProducts</th>\n",
       "      <th>HasCrCard</th>\n",
       "      <th>IsActiveMember</th>\n",
       "      <th>EstimatedSalary</th>\n",
       "      <th>Exited</th>\n",
       "    </tr>\n",
       "  </thead>\n",
       "  <tbody>\n",
       "    <tr>\n",
       "      <th>0</th>\n",
       "      <td>1</td>\n",
       "      <td>15634602</td>\n",
       "      <td>Hargrave</td>\n",
       "      <td>619</td>\n",
       "      <td>France</td>\n",
       "      <td>Female</td>\n",
       "      <td>42</td>\n",
       "      <td>2</td>\n",
       "      <td>0.00</td>\n",
       "      <td>1</td>\n",
       "      <td>1</td>\n",
       "      <td>1</td>\n",
       "      <td>101348.88</td>\n",
       "      <td>1</td>\n",
       "    </tr>\n",
       "    <tr>\n",
       "      <th>1</th>\n",
       "      <td>2</td>\n",
       "      <td>15647311</td>\n",
       "      <td>Hill</td>\n",
       "      <td>608</td>\n",
       "      <td>Spain</td>\n",
       "      <td>Female</td>\n",
       "      <td>41</td>\n",
       "      <td>1</td>\n",
       "      <td>83807.86</td>\n",
       "      <td>1</td>\n",
       "      <td>0</td>\n",
       "      <td>1</td>\n",
       "      <td>112542.58</td>\n",
       "      <td>0</td>\n",
       "    </tr>\n",
       "    <tr>\n",
       "      <th>2</th>\n",
       "      <td>3</td>\n",
       "      <td>15619304</td>\n",
       "      <td>Onio</td>\n",
       "      <td>502</td>\n",
       "      <td>France</td>\n",
       "      <td>Female</td>\n",
       "      <td>42</td>\n",
       "      <td>8</td>\n",
       "      <td>159660.80</td>\n",
       "      <td>3</td>\n",
       "      <td>1</td>\n",
       "      <td>0</td>\n",
       "      <td>113931.57</td>\n",
       "      <td>1</td>\n",
       "    </tr>\n",
       "    <tr>\n",
       "      <th>3</th>\n",
       "      <td>4</td>\n",
       "      <td>15701354</td>\n",
       "      <td>Boni</td>\n",
       "      <td>699</td>\n",
       "      <td>France</td>\n",
       "      <td>Female</td>\n",
       "      <td>39</td>\n",
       "      <td>1</td>\n",
       "      <td>0.00</td>\n",
       "      <td>2</td>\n",
       "      <td>0</td>\n",
       "      <td>0</td>\n",
       "      <td>93826.63</td>\n",
       "      <td>0</td>\n",
       "    </tr>\n",
       "    <tr>\n",
       "      <th>4</th>\n",
       "      <td>5</td>\n",
       "      <td>15737888</td>\n",
       "      <td>Mitchell</td>\n",
       "      <td>850</td>\n",
       "      <td>Spain</td>\n",
       "      <td>Female</td>\n",
       "      <td>43</td>\n",
       "      <td>2</td>\n",
       "      <td>125510.82</td>\n",
       "      <td>1</td>\n",
       "      <td>1</td>\n",
       "      <td>1</td>\n",
       "      <td>79084.10</td>\n",
       "      <td>0</td>\n",
       "    </tr>\n",
       "  </tbody>\n",
       "</table>\n",
       "</div>"
      ],
      "text/plain": [
       "   RowNumber  CustomerId   Surname  CreditScore Geography  Gender  Age  \\\n",
       "0          1    15634602  Hargrave          619    France  Female   42   \n",
       "1          2    15647311      Hill          608     Spain  Female   41   \n",
       "2          3    15619304      Onio          502    France  Female   42   \n",
       "3          4    15701354      Boni          699    France  Female   39   \n",
       "4          5    15737888  Mitchell          850     Spain  Female   43   \n",
       "\n",
       "   Tenure    Balance  NumOfProducts  HasCrCard  IsActiveMember  \\\n",
       "0       2       0.00              1          1               1   \n",
       "1       1   83807.86              1          0               1   \n",
       "2       8  159660.80              3          1               0   \n",
       "3       1       0.00              2          0               0   \n",
       "4       2  125510.82              1          1               1   \n",
       "\n",
       "   EstimatedSalary  Exited  \n",
       "0        101348.88       1  \n",
       "1        112542.58       0  \n",
       "2        113931.57       1  \n",
       "3         93826.63       0  \n",
       "4         79084.10       0  "
      ]
     },
     "execution_count": 5,
     "metadata": {},
     "output_type": "execute_result"
    }
   ],
   "source": [
    "df.head()"
   ]
  },
  {
   "cell_type": "code",
   "execution_count": 6,
   "metadata": {},
   "outputs": [
    {
     "data": {
      "text/plain": [
       "(10000, 14)"
      ]
     },
     "execution_count": 6,
     "metadata": {},
     "output_type": "execute_result"
    }
   ],
   "source": [
    "df.shape"
   ]
  },
  {
   "cell_type": "markdown",
   "metadata": {},
   "source": [
    "##### Dropping irrelevant columns"
   ]
  },
  {
   "cell_type": "code",
   "execution_count": 7,
   "metadata": {
    "execution": {
     "iopub.execute_input": "2022-03-06T03:33:16.956409Z",
     "iopub.status.busy": "2022-03-06T03:33:16.956107Z",
     "iopub.status.idle": "2022-03-06T03:33:16.969099Z",
     "shell.execute_reply": "2022-03-06T03:33:16.968191Z",
     "shell.execute_reply.started": "2022-03-06T03:33:16.956376Z"
    }
   },
   "outputs": [],
   "source": [
    "df.drop(columns = ['RowNumber','CustomerId','Surname'],inplace=True)"
   ]
  },
  {
   "cell_type": "code",
   "execution_count": 8,
   "metadata": {
    "execution": {
     "iopub.execute_input": "2022-03-06T03:33:25.597651Z",
     "iopub.status.busy": "2022-03-06T03:33:25.596737Z",
     "iopub.status.idle": "2022-03-06T03:33:25.613054Z",
     "shell.execute_reply": "2022-03-06T03:33:25.612113Z",
     "shell.execute_reply.started": "2022-03-06T03:33:25.597603Z"
    }
   },
   "outputs": [
    {
     "data": {
      "text/html": [
       "<div>\n",
       "<style scoped>\n",
       "    .dataframe tbody tr th:only-of-type {\n",
       "        vertical-align: middle;\n",
       "    }\n",
       "\n",
       "    .dataframe tbody tr th {\n",
       "        vertical-align: top;\n",
       "    }\n",
       "\n",
       "    .dataframe thead th {\n",
       "        text-align: right;\n",
       "    }\n",
       "</style>\n",
       "<table border=\"1\" class=\"dataframe\">\n",
       "  <thead>\n",
       "    <tr style=\"text-align: right;\">\n",
       "      <th></th>\n",
       "      <th>CreditScore</th>\n",
       "      <th>Geography</th>\n",
       "      <th>Gender</th>\n",
       "      <th>Age</th>\n",
       "      <th>Tenure</th>\n",
       "      <th>Balance</th>\n",
       "      <th>NumOfProducts</th>\n",
       "      <th>HasCrCard</th>\n",
       "      <th>IsActiveMember</th>\n",
       "      <th>EstimatedSalary</th>\n",
       "      <th>Exited</th>\n",
       "    </tr>\n",
       "  </thead>\n",
       "  <tbody>\n",
       "    <tr>\n",
       "      <th>0</th>\n",
       "      <td>619</td>\n",
       "      <td>France</td>\n",
       "      <td>Female</td>\n",
       "      <td>42</td>\n",
       "      <td>2</td>\n",
       "      <td>0.00</td>\n",
       "      <td>1</td>\n",
       "      <td>1</td>\n",
       "      <td>1</td>\n",
       "      <td>101348.88</td>\n",
       "      <td>1</td>\n",
       "    </tr>\n",
       "    <tr>\n",
       "      <th>1</th>\n",
       "      <td>608</td>\n",
       "      <td>Spain</td>\n",
       "      <td>Female</td>\n",
       "      <td>41</td>\n",
       "      <td>1</td>\n",
       "      <td>83807.86</td>\n",
       "      <td>1</td>\n",
       "      <td>0</td>\n",
       "      <td>1</td>\n",
       "      <td>112542.58</td>\n",
       "      <td>0</td>\n",
       "    </tr>\n",
       "    <tr>\n",
       "      <th>2</th>\n",
       "      <td>502</td>\n",
       "      <td>France</td>\n",
       "      <td>Female</td>\n",
       "      <td>42</td>\n",
       "      <td>8</td>\n",
       "      <td>159660.80</td>\n",
       "      <td>3</td>\n",
       "      <td>1</td>\n",
       "      <td>0</td>\n",
       "      <td>113931.57</td>\n",
       "      <td>1</td>\n",
       "    </tr>\n",
       "    <tr>\n",
       "      <th>3</th>\n",
       "      <td>699</td>\n",
       "      <td>France</td>\n",
       "      <td>Female</td>\n",
       "      <td>39</td>\n",
       "      <td>1</td>\n",
       "      <td>0.00</td>\n",
       "      <td>2</td>\n",
       "      <td>0</td>\n",
       "      <td>0</td>\n",
       "      <td>93826.63</td>\n",
       "      <td>0</td>\n",
       "    </tr>\n",
       "    <tr>\n",
       "      <th>4</th>\n",
       "      <td>850</td>\n",
       "      <td>Spain</td>\n",
       "      <td>Female</td>\n",
       "      <td>43</td>\n",
       "      <td>2</td>\n",
       "      <td>125510.82</td>\n",
       "      <td>1</td>\n",
       "      <td>1</td>\n",
       "      <td>1</td>\n",
       "      <td>79084.10</td>\n",
       "      <td>0</td>\n",
       "    </tr>\n",
       "  </tbody>\n",
       "</table>\n",
       "</div>"
      ],
      "text/plain": [
       "   CreditScore Geography  Gender  Age  Tenure    Balance  NumOfProducts  \\\n",
       "0          619    France  Female   42       2       0.00              1   \n",
       "1          608     Spain  Female   41       1   83807.86              1   \n",
       "2          502    France  Female   42       8  159660.80              3   \n",
       "3          699    France  Female   39       1       0.00              2   \n",
       "4          850     Spain  Female   43       2  125510.82              1   \n",
       "\n",
       "   HasCrCard  IsActiveMember  EstimatedSalary  Exited  \n",
       "0          1               1        101348.88       1  \n",
       "1          0               1        112542.58       0  \n",
       "2          1               0        113931.57       1  \n",
       "3          0               0         93826.63       0  \n",
       "4          1               1         79084.10       0  "
      ]
     },
     "execution_count": 8,
     "metadata": {},
     "output_type": "execute_result"
    }
   ],
   "source": [
    "df.head()"
   ]
  },
  {
   "cell_type": "code",
   "execution_count": 9,
   "metadata": {},
   "outputs": [
    {
     "name": "stdout",
     "output_type": "stream",
     "text": [
      "<class 'pandas.core.frame.DataFrame'>\n",
      "RangeIndex: 10000 entries, 0 to 9999\n",
      "Data columns (total 11 columns):\n",
      " #   Column           Non-Null Count  Dtype  \n",
      "---  ------           --------------  -----  \n",
      " 0   CreditScore      10000 non-null  int64  \n",
      " 1   Geography        10000 non-null  object \n",
      " 2   Gender           10000 non-null  object \n",
      " 3   Age              10000 non-null  int64  \n",
      " 4   Tenure           10000 non-null  int64  \n",
      " 5   Balance          10000 non-null  float64\n",
      " 6   NumOfProducts    10000 non-null  int64  \n",
      " 7   HasCrCard        10000 non-null  int64  \n",
      " 8   IsActiveMember   10000 non-null  int64  \n",
      " 9   EstimatedSalary  10000 non-null  float64\n",
      " 10  Exited           10000 non-null  int64  \n",
      "dtypes: float64(2), int64(7), object(2)\n",
      "memory usage: 859.5+ KB\n"
     ]
    }
   ],
   "source": [
    "df.info()"
   ]
  },
  {
   "cell_type": "markdown",
   "metadata": {},
   "source": [
    "#### We see that no null values present"
   ]
  },
  {
   "cell_type": "code",
   "execution_count": 10,
   "metadata": {},
   "outputs": [
    {
     "data": {
      "text/plain": [
       "0"
      ]
     },
     "execution_count": 10,
     "metadata": {},
     "output_type": "execute_result"
    }
   ],
   "source": [
    "# checking for dupliacte rows\n",
    "df.duplicated().sum()"
   ]
  },
  {
   "cell_type": "code",
   "execution_count": 11,
   "metadata": {},
   "outputs": [
    {
     "data": {
      "text/plain": [
       "0    7963\n",
       "1    2037\n",
       "Name: Exited, dtype: int64"
      ]
     },
     "execution_count": 11,
     "metadata": {},
     "output_type": "execute_result"
    }
   ],
   "source": [
    "df['Exited'].value_counts()"
   ]
  },
  {
   "cell_type": "markdown",
   "metadata": {},
   "source": [
    "#### We see imbalance in classification"
   ]
  },
  {
   "cell_type": "code",
   "execution_count": 12,
   "metadata": {
    "execution": {
     "iopub.execute_input": "2022-03-06T03:33:36.321542Z",
     "iopub.status.busy": "2022-03-06T03:33:36.320838Z",
     "iopub.status.idle": "2022-03-06T03:33:36.333826Z",
     "shell.execute_reply": "2022-03-06T03:33:36.333097Z",
     "shell.execute_reply.started": "2022-03-06T03:33:36.321507Z"
    }
   },
   "outputs": [
    {
     "data": {
      "text/plain": [
       "France     5014\n",
       "Germany    2509\n",
       "Spain      2477\n",
       "Name: Geography, dtype: int64"
      ]
     },
     "execution_count": 12,
     "metadata": {},
     "output_type": "execute_result"
    }
   ],
   "source": [
    "df['Geography'].value_counts()"
   ]
  },
  {
   "cell_type": "code",
   "execution_count": 13,
   "metadata": {
    "execution": {
     "iopub.execute_input": "2022-03-06T03:33:45.386793Z",
     "iopub.status.busy": "2022-03-06T03:33:45.385967Z",
     "iopub.status.idle": "2022-03-06T03:33:45.395330Z",
     "shell.execute_reply": "2022-03-06T03:33:45.394438Z",
     "shell.execute_reply.started": "2022-03-06T03:33:45.386756Z"
    }
   },
   "outputs": [
    {
     "data": {
      "text/plain": [
       "Male      5457\n",
       "Female    4543\n",
       "Name: Gender, dtype: int64"
      ]
     },
     "execution_count": 13,
     "metadata": {},
     "output_type": "execute_result"
    }
   ],
   "source": [
    "df['Gender'].value_counts()"
   ]
  },
  {
   "cell_type": "code",
   "execution_count": 14,
   "metadata": {
    "execution": {
     "iopub.execute_input": "2022-03-06T03:33:54.382275Z",
     "iopub.status.busy": "2022-03-06T03:33:54.381775Z",
     "iopub.status.idle": "2022-03-06T03:33:54.399399Z",
     "shell.execute_reply": "2022-03-06T03:33:54.398368Z",
     "shell.execute_reply.started": "2022-03-06T03:33:54.382234Z"
    }
   },
   "outputs": [],
   "source": [
    "#one hot encoding the categorical values\n",
    "df = pd.get_dummies(df,columns=['Geography','Gender'],drop_first=True)"
   ]
  },
  {
   "cell_type": "code",
   "execution_count": 15,
   "metadata": {
    "execution": {
     "iopub.execute_input": "2022-03-06T03:34:05.465611Z",
     "iopub.status.busy": "2022-03-06T03:34:05.465041Z",
     "iopub.status.idle": "2022-03-06T03:34:05.481994Z",
     "shell.execute_reply": "2022-03-06T03:34:05.481205Z",
     "shell.execute_reply.started": "2022-03-06T03:34:05.465567Z"
    }
   },
   "outputs": [
    {
     "data": {
      "text/html": [
       "<div>\n",
       "<style scoped>\n",
       "    .dataframe tbody tr th:only-of-type {\n",
       "        vertical-align: middle;\n",
       "    }\n",
       "\n",
       "    .dataframe tbody tr th {\n",
       "        vertical-align: top;\n",
       "    }\n",
       "\n",
       "    .dataframe thead th {\n",
       "        text-align: right;\n",
       "    }\n",
       "</style>\n",
       "<table border=\"1\" class=\"dataframe\">\n",
       "  <thead>\n",
       "    <tr style=\"text-align: right;\">\n",
       "      <th></th>\n",
       "      <th>CreditScore</th>\n",
       "      <th>Age</th>\n",
       "      <th>Tenure</th>\n",
       "      <th>Balance</th>\n",
       "      <th>NumOfProducts</th>\n",
       "      <th>HasCrCard</th>\n",
       "      <th>IsActiveMember</th>\n",
       "      <th>EstimatedSalary</th>\n",
       "      <th>Exited</th>\n",
       "      <th>Geography_Germany</th>\n",
       "      <th>Geography_Spain</th>\n",
       "      <th>Gender_Male</th>\n",
       "    </tr>\n",
       "  </thead>\n",
       "  <tbody>\n",
       "    <tr>\n",
       "      <th>0</th>\n",
       "      <td>619</td>\n",
       "      <td>42</td>\n",
       "      <td>2</td>\n",
       "      <td>0.00</td>\n",
       "      <td>1</td>\n",
       "      <td>1</td>\n",
       "      <td>1</td>\n",
       "      <td>101348.88</td>\n",
       "      <td>1</td>\n",
       "      <td>0</td>\n",
       "      <td>0</td>\n",
       "      <td>0</td>\n",
       "    </tr>\n",
       "    <tr>\n",
       "      <th>1</th>\n",
       "      <td>608</td>\n",
       "      <td>41</td>\n",
       "      <td>1</td>\n",
       "      <td>83807.86</td>\n",
       "      <td>1</td>\n",
       "      <td>0</td>\n",
       "      <td>1</td>\n",
       "      <td>112542.58</td>\n",
       "      <td>0</td>\n",
       "      <td>0</td>\n",
       "      <td>1</td>\n",
       "      <td>0</td>\n",
       "    </tr>\n",
       "    <tr>\n",
       "      <th>2</th>\n",
       "      <td>502</td>\n",
       "      <td>42</td>\n",
       "      <td>8</td>\n",
       "      <td>159660.80</td>\n",
       "      <td>3</td>\n",
       "      <td>1</td>\n",
       "      <td>0</td>\n",
       "      <td>113931.57</td>\n",
       "      <td>1</td>\n",
       "      <td>0</td>\n",
       "      <td>0</td>\n",
       "      <td>0</td>\n",
       "    </tr>\n",
       "    <tr>\n",
       "      <th>3</th>\n",
       "      <td>699</td>\n",
       "      <td>39</td>\n",
       "      <td>1</td>\n",
       "      <td>0.00</td>\n",
       "      <td>2</td>\n",
       "      <td>0</td>\n",
       "      <td>0</td>\n",
       "      <td>93826.63</td>\n",
       "      <td>0</td>\n",
       "      <td>0</td>\n",
       "      <td>0</td>\n",
       "      <td>0</td>\n",
       "    </tr>\n",
       "    <tr>\n",
       "      <th>4</th>\n",
       "      <td>850</td>\n",
       "      <td>43</td>\n",
       "      <td>2</td>\n",
       "      <td>125510.82</td>\n",
       "      <td>1</td>\n",
       "      <td>1</td>\n",
       "      <td>1</td>\n",
       "      <td>79084.10</td>\n",
       "      <td>0</td>\n",
       "      <td>0</td>\n",
       "      <td>1</td>\n",
       "      <td>0</td>\n",
       "    </tr>\n",
       "  </tbody>\n",
       "</table>\n",
       "</div>"
      ],
      "text/plain": [
       "   CreditScore  Age  Tenure    Balance  NumOfProducts  HasCrCard  \\\n",
       "0          619   42       2       0.00              1          1   \n",
       "1          608   41       1   83807.86              1          0   \n",
       "2          502   42       8  159660.80              3          1   \n",
       "3          699   39       1       0.00              2          0   \n",
       "4          850   43       2  125510.82              1          1   \n",
       "\n",
       "   IsActiveMember  EstimatedSalary  Exited  Geography_Germany  \\\n",
       "0               1        101348.88       1                  0   \n",
       "1               1        112542.58       0                  0   \n",
       "2               0        113931.57       1                  0   \n",
       "3               0         93826.63       0                  0   \n",
       "4               1         79084.10       0                  0   \n",
       "\n",
       "   Geography_Spain  Gender_Male  \n",
       "0                0            0  \n",
       "1                1            0  \n",
       "2                0            0  \n",
       "3                0            0  \n",
       "4                1            0  "
      ]
     },
     "execution_count": 15,
     "metadata": {},
     "output_type": "execute_result"
    }
   ],
   "source": [
    "df.head()"
   ]
  },
  {
   "cell_type": "code",
   "execution_count": 32,
   "metadata": {},
   "outputs": [
    {
     "data": {
      "text/plain": [
       "<matplotlib.legend.Legend at 0x239788f7190>"
      ]
     },
     "execution_count": 32,
     "metadata": {},
     "output_type": "execute_result"
    },
    {
     "data": {
      "image/png": "[encoded data removed]",
      "text/plain": [
       "<Figure size 640x480 with 1 Axes>"
      ]
     },
     "metadata": {},
     "output_type": "display_data"
    }
   ],
   "source": [
    "import matplotlib.pyplot as plt\n",
    "%matplotlib inline\n",
    "tenure_left=df[df.Exited==1].Tenure\n",
    "tenure_stay=df[df.Exited==0].Tenure\n",
    "plt.hist([tenure_left,tenure_stay],color=['red','green'],label=['letf','stayed'])\n",
    "plt.legend()"
   ]
  },
  {
   "cell_type": "code",
   "execution_count": null,
   "metadata": {},
   "outputs": [],
   "source": []
  },
  {
   "cell_type": "code",
   "execution_count": 18,
   "metadata": {
    "execution": {
     "iopub.execute_input": "2022-03-06T03:34:15.211980Z",
     "iopub.status.busy": "2022-03-06T03:34:15.211214Z",
     "iopub.status.idle": "2022-03-06T03:34:16.378692Z",
     "shell.execute_reply": "2022-03-06T03:34:16.377875Z",
     "shell.execute_reply.started": "2022-03-06T03:34:15.211936Z"
    }
   },
   "outputs": [],
   "source": [
    "X = df.drop(columns=['Exited'])\n",
    "y = df['Exited'].values"
   ]
  },
  {
   "cell_type": "code",
   "execution_count": 35,
   "metadata": {},
   "outputs": [
    {
     "data": {
      "text/plain": [
       "(10000, 11)"
      ]
     },
     "execution_count": 35,
     "metadata": {},
     "output_type": "execute_result"
    }
   ],
   "source": [
    "X.shape"
   ]
  },
  {
   "cell_type": "code",
   "execution_count": 40,
   "metadata": {},
   "outputs": [],
   "source": [
    "from sklearn.model_selection import train_test_split\n",
    "#X_train,X_test,y_train,y_test = train_test_split(X,y,test_size=0.30,random_state=0)\n",
    "X_train, X_test_val, y_train, y_test_val = train_test_split(X, y, test_size=0.2, random_state=42)\n",
    "X_val, X_test, y_val, y_test = train_test_split(X_test_val, y_test_val, test_size=0.5, random_state=42)"
   ]
  },
  {
   "cell_type": "code",
   "execution_count": 41,
   "metadata": {},
   "outputs": [
    {
     "data": {
      "text/plain": [
       "((1000, 11), (1000, 11), (1000,))"
      ]
     },
     "execution_count": 41,
     "metadata": {},
     "output_type": "execute_result"
    }
   ],
   "source": [
    "X_val.shape, X_test.shape, y_val.shape"
   ]
  },
  {
   "cell_type": "code",
   "execution_count": 42,
   "metadata": {
    "execution": {
     "iopub.execute_input": "2022-03-06T03:34:23.642185Z",
     "iopub.status.busy": "2022-03-06T03:34:23.641345Z",
     "iopub.status.idle": "2022-03-06T03:34:23.656143Z",
     "shell.execute_reply": "2022-03-06T03:34:23.655395Z",
     "shell.execute_reply.started": "2022-03-06T03:34:23.642134Z"
    }
   },
   "outputs": [],
   "source": [
    "from sklearn.preprocessing import StandardScaler\n",
    "scaler = StandardScaler()\n",
    "\n",
    "X_train_trf = scaler.fit_transform(X_train)\n",
    "X_test_trf = scaler.transform(X_test)"
   ]
  },
  {
   "cell_type": "code",
   "execution_count": 43,
   "metadata": {
    "execution": {
     "iopub.execute_input": "2022-03-06T03:34:31.132229Z",
     "iopub.status.busy": "2022-03-06T03:34:31.131533Z",
     "iopub.status.idle": "2022-03-06T03:34:37.435530Z",
     "shell.execute_reply": "2022-03-06T03:34:37.434835Z",
     "shell.execute_reply.started": "2022-03-06T03:34:31.132167Z"
    }
   },
   "outputs": [],
   "source": [
    "import tensorflow\n",
    "from tensorflow import keras\n",
    "from tensorflow.keras import Sequential \n",
    "from tensorflow.keras.layers import Dense"
   ]
  },
  {
   "cell_type": "code",
   "execution_count": 44,
   "metadata": {},
   "outputs": [],
   "source": [
    "model1 = Sequential()\n",
    "\n",
    "model1.add(Dense(128,activation='relu',input_dim=11))\n",
    "model1.add(Dense(64,activation='relu'))\n",
    "model1.add(Dense(32,activation='relu'))\n",
    "model1.add(Dense(1,activation='sigmoid'))"
   ]
  },
  {
   "cell_type": "code",
   "execution_count": 45,
   "metadata": {},
   "outputs": [
    {
     "name": "stdout",
     "output_type": "stream",
     "text": [
      "Model: \"sequential\"\n",
      "_________________________________________________________________\n",
      " Layer (type)                Output Shape              Param #   \n",
      "=================================================================\n",
      " dense (Dense)               (None, 128)               1536      \n",
      "                                                                 \n",
      " dense_1 (Dense)             (None, 64)                8256      \n",
      "                                                                 \n",
      " dense_2 (Dense)             (None, 32)                2080      \n",
      "                                                                 \n",
      " dense_3 (Dense)             (None, 1)                 33        \n",
      "                                                                 \n",
      "=================================================================\n",
      "Total params: 11905 (46.50 KB)\n",
      "Trainable params: 11905 (46.50 KB)\n",
      "Non-trainable params: 0 (0.00 Byte)\n",
      "_________________________________________________________________\n"
     ]
    }
   ],
   "source": [
    "model1.summary()"
   ]
  },
  {
   "cell_type": "code",
   "execution_count": 46,
   "metadata": {},
   "outputs": [],
   "source": [
    "model1.compile(optimizer='Adam',loss='binary_crossentropy',metrics=['accuracy'])"
   ]
  },
  {
   "cell_type": "code",
   "execution_count": 47,
   "metadata": {},
   "outputs": [
    {
     "name": "stdout",
     "output_type": "stream",
     "text": [
      "Epoch 1/50\n",
      "178/178 [==============================] - 2s 5ms/step - loss: 191.1270 - accuracy: 0.6702 - val_loss: 146.4326 - val_accuracy: 0.2206\n",
      "Epoch 2/50\n",
      "178/178 [==============================] - 0s 3ms/step - loss: 94.6987 - accuracy: 0.6775 - val_loss: 34.4522 - val_accuracy: 0.7456\n",
      "Epoch 3/50\n",
      "178/178 [==============================] - 0s 3ms/step - loss: 69.6068 - accuracy: 0.6791 - val_loss: 71.7812 - val_accuracy: 0.6181\n",
      "Epoch 4/50\n",
      "178/178 [==============================] - 0s 3ms/step - loss: 59.2600 - accuracy: 0.6850 - val_loss: 117.6298 - val_accuracy: 0.4744\n",
      "Epoch 5/50\n",
      "178/178 [==============================] - 0s 2ms/step - loss: 59.3752 - accuracy: 0.6789 - val_loss: 77.5452 - val_accuracy: 0.7681\n",
      "Epoch 6/50\n",
      "178/178 [==============================] - 0s 3ms/step - loss: 48.0419 - accuracy: 0.6833 - val_loss: 23.1115 - val_accuracy: 0.7969\n",
      "Epoch 7/50\n",
      "178/178 [==============================] - 0s 3ms/step - loss: 37.7289 - accuracy: 0.6833 - val_loss: 57.6707 - val_accuracy: 0.7962\n",
      "Epoch 8/50\n",
      "178/178 [==============================] - 0s 3ms/step - loss: 36.4266 - accuracy: 0.6737 - val_loss: 57.4090 - val_accuracy: 0.7987\n",
      "Epoch 9/50\n",
      "178/178 [==============================] - 0s 2ms/step - loss: 39.8850 - accuracy: 0.6708 - val_loss: 22.0757 - val_accuracy: 0.5681\n",
      "Epoch 10/50\n",
      "178/178 [==============================] - 0s 2ms/step - loss: 29.6779 - accuracy: 0.6759 - val_loss: 17.5913 - val_accuracy: 0.7956\n",
      "Epoch 11/50\n",
      "178/178 [==============================] - 0s 2ms/step - loss: 26.9388 - accuracy: 0.6787 - val_loss: 12.6232 - val_accuracy: 0.6731\n",
      "Epoch 12/50\n",
      "178/178 [==============================] - 0s 3ms/step - loss: 22.9660 - accuracy: 0.6680 - val_loss: 21.8847 - val_accuracy: 0.7962\n",
      "Epoch 13/50\n",
      "178/178 [==============================] - 1s 3ms/step - loss: 18.8077 - accuracy: 0.6808 - val_loss: 12.7222 - val_accuracy: 0.6181\n",
      "Epoch 14/50\n",
      "178/178 [==============================] - 1s 3ms/step - loss: 18.6410 - accuracy: 0.6727 - val_loss: 15.0880 - val_accuracy: 0.7319\n",
      "Epoch 15/50\n",
      "178/178 [==============================] - 0s 3ms/step - loss: 21.2128 - accuracy: 0.6772 - val_loss: 33.5589 - val_accuracy: 0.7981\n",
      "Epoch 16/50\n",
      "178/178 [==============================] - 0s 3ms/step - loss: 15.7951 - accuracy: 0.6733 - val_loss: 8.3927 - val_accuracy: 0.7956\n",
      "Epoch 17/50\n",
      "178/178 [==============================] - 0s 3ms/step - loss: 13.5019 - accuracy: 0.6784 - val_loss: 12.5665 - val_accuracy: 0.6594\n",
      "Epoch 18/50\n",
      "178/178 [==============================] - 0s 3ms/step - loss: 12.2230 - accuracy: 0.6820 - val_loss: 9.5471 - val_accuracy: 0.7931\n",
      "Epoch 19/50\n",
      "178/178 [==============================] - 0s 3ms/step - loss: 13.9665 - accuracy: 0.6764 - val_loss: 13.5188 - val_accuracy: 0.4919\n",
      "Epoch 20/50\n",
      "178/178 [==============================] - 0s 3ms/step - loss: 9.1119 - accuracy: 0.6758 - val_loss: 20.5526 - val_accuracy: 0.7987\n",
      "Epoch 21/50\n",
      "178/178 [==============================] - 0s 3ms/step - loss: 13.5621 - accuracy: 0.6762 - val_loss: 7.6148 - val_accuracy: 0.7044\n",
      "Epoch 22/50\n",
      "178/178 [==============================] - 0s 3ms/step - loss: 7.2421 - accuracy: 0.6762 - val_loss: 4.1225 - val_accuracy: 0.5487\n",
      "Epoch 23/50\n",
      "178/178 [==============================] - 0s 3ms/step - loss: 7.1576 - accuracy: 0.6806 - val_loss: 5.0826 - val_accuracy: 0.7987\n",
      "Epoch 24/50\n",
      "178/178 [==============================] - 0s 2ms/step - loss: 5.6078 - accuracy: 0.6906 - val_loss: 5.5820 - val_accuracy: 0.6894\n",
      "Epoch 25/50\n",
      "178/178 [==============================] - 0s 2ms/step - loss: 8.3545 - accuracy: 0.6731 - val_loss: 6.2644 - val_accuracy: 0.7987\n",
      "Epoch 26/50\n",
      "178/178 [==============================] - 0s 3ms/step - loss: 6.9850 - accuracy: 0.6830 - val_loss: 6.1820 - val_accuracy: 0.5869\n",
      "Epoch 27/50\n",
      "178/178 [==============================] - 0s 2ms/step - loss: 5.9194 - accuracy: 0.6786 - val_loss: 2.7848 - val_accuracy: 0.7987\n",
      "Epoch 28/50\n",
      "178/178 [==============================] - 0s 2ms/step - loss: 3.4178 - accuracy: 0.6855 - val_loss: 3.1887 - val_accuracy: 0.7962\n",
      "Epoch 29/50\n",
      "178/178 [==============================] - 0s 2ms/step - loss: 3.2278 - accuracy: 0.6884 - val_loss: 6.0068 - val_accuracy: 0.3494\n",
      "Epoch 30/50\n",
      "178/178 [==============================] - 0s 2ms/step - loss: 7.0833 - accuracy: 0.6736 - val_loss: 2.4488 - val_accuracy: 0.7406\n",
      "Epoch 31/50\n",
      "178/178 [==============================] - 0s 2ms/step - loss: 3.1532 - accuracy: 0.6716 - val_loss: 1.7708 - val_accuracy: 0.7188\n",
      "Epoch 32/50\n",
      "178/178 [==============================] - 0s 2ms/step - loss: 1.6478 - accuracy: 0.6958 - val_loss: 1.1861 - val_accuracy: 0.7944\n",
      "Epoch 33/50\n",
      "178/178 [==============================] - 0s 3ms/step - loss: 1.2107 - accuracy: 0.7078 - val_loss: 2.6359 - val_accuracy: 0.2912\n",
      "Epoch 34/50\n",
      "178/178 [==============================] - 0s 2ms/step - loss: 1.0750 - accuracy: 0.7080 - val_loss: 1.2991 - val_accuracy: 0.7563\n",
      "Epoch 35/50\n",
      "178/178 [==============================] - 0s 2ms/step - loss: 0.9863 - accuracy: 0.7408 - val_loss: 0.5703 - val_accuracy: 0.7969\n",
      "Epoch 36/50\n",
      "178/178 [==============================] - 0s 2ms/step - loss: 0.7003 - accuracy: 0.7462 - val_loss: 0.5921 - val_accuracy: 0.7962\n",
      "Epoch 37/50\n",
      "178/178 [==============================] - 0s 2ms/step - loss: 0.6751 - accuracy: 0.7555 - val_loss: 0.6010 - val_accuracy: 0.7975\n",
      "Epoch 38/50\n",
      "178/178 [==============================] - 0s 2ms/step - loss: 0.6173 - accuracy: 0.7658 - val_loss: 0.5809 - val_accuracy: 0.7962\n",
      "Epoch 39/50\n",
      "178/178 [==============================] - 0s 2ms/step - loss: 0.5827 - accuracy: 0.7778 - val_loss: 0.6519 - val_accuracy: 0.7969\n",
      "Epoch 40/50\n",
      "178/178 [==============================] - 0s 2ms/step - loss: 0.6907 - accuracy: 0.7439 - val_loss: 1.3014 - val_accuracy: 0.4706\n",
      "Epoch 41/50\n",
      "178/178 [==============================] - 0s 2ms/step - loss: 0.9244 - accuracy: 0.7239 - val_loss: 1.3667 - val_accuracy: 0.4681\n",
      "Epoch 42/50\n",
      "178/178 [==============================] - 0s 2ms/step - loss: 1.0895 - accuracy: 0.7423 - val_loss: 0.5638 - val_accuracy: 0.7981\n",
      "Epoch 43/50\n",
      "178/178 [==============================] - 0s 2ms/step - loss: 0.5755 - accuracy: 0.7722 - val_loss: 0.5201 - val_accuracy: 0.7975\n",
      "Epoch 44/50\n",
      "178/178 [==============================] - 0s 2ms/step - loss: 1.3421 - accuracy: 0.7387 - val_loss: 0.6385 - val_accuracy: 0.7969\n",
      "Epoch 45/50\n",
      "178/178 [==============================] - 0s 3ms/step - loss: 0.6578 - accuracy: 0.7522 - val_loss: 0.5031 - val_accuracy: 0.7975\n",
      "Epoch 46/50\n",
      "178/178 [==============================] - 0s 2ms/step - loss: 0.6072 - accuracy: 0.7631 - val_loss: 0.7228 - val_accuracy: 0.7975\n",
      "Epoch 47/50\n",
      "178/178 [==============================] - 0s 2ms/step - loss: 0.5944 - accuracy: 0.7761 - val_loss: 0.4975 - val_accuracy: 0.7962\n",
      "Epoch 48/50\n",
      "178/178 [==============================] - 0s 2ms/step - loss: 0.5234 - accuracy: 0.7919 - val_loss: 0.5097 - val_accuracy: 0.7969\n",
      "Epoch 49/50\n",
      "178/178 [==============================] - 0s 2ms/step - loss: 0.5366 - accuracy: 0.7848 - val_loss: 0.5234 - val_accuracy: 0.7950\n",
      "Epoch 50/50\n",
      "178/178 [==============================] - 0s 3ms/step - loss: 0.5656 - accuracy: 0.7720 - val_loss: 0.5086 - val_accuracy: 0.7987\n"
     ]
    }
   ],
   "source": [
    "history = model1.fit(X_train,y_train,batch_size=36,epochs=50,verbose=1,validation_split=0.2)"
   ]
  },
  {
   "cell_type": "code",
   "execution_count": null,
   "metadata": {},
   "outputs": [],
   "source": []
  },
  {
   "cell_type": "code",
   "execution_count": 50,
   "metadata": {},
   "outputs": [
    {
     "name": "stdout",
     "output_type": "stream",
     "text": [
      "32/32 [==============================] - 0s 1ms/step\n"
     ]
    },
    {
     "data": {
      "text/plain": [
       "0.785"
      ]
     },
     "execution_count": 50,
     "metadata": {},
     "output_type": "execute_result"
    }
   ],
   "source": [
    "y_pred = model1.predict(X_test)\n",
    "y_pred = y_pred.argmax(axis=-1)\n",
    "from sklearn.metrics import accuracy_score\n",
    "accuracy_score(y_test,y_pred)"
   ]
  },
  {
   "cell_type": "code",
   "execution_count": 51,
   "metadata": {},
   "outputs": [
    {
     "data": {
      "text/plain": [
       "[<matplotlib.lines.Line2D at 0x23909e65810>]"
      ]
     },
     "execution_count": 51,
     "metadata": {},
     "output_type": "execute_result"
    },
    {
     "data": {
      "image/png": "[encoded data removed]",
      "text/plain": [
       "<Figure size 640x480 with 1 Axes>"
      ]
     },
     "metadata": {},
     "output_type": "display_data"
    }
   ],
   "source": [
    "import matplotlib.pyplot as plt\n",
    "\n",
    "plt.plot(history.history['loss'])\n",
    "plt.plot(history.history['val_loss'])"
   ]
  },
  {
   "cell_type": "code",
   "execution_count": 52,
   "metadata": {},
   "outputs": [
    {
     "data": {
      "image/png": "[encoded data removed]",
      "text/plain": [
       "<Figure size 640x480 with 1 Axes>"
      ]
     },
     "metadata": {},
     "output_type": "display_data"
    }
   ],
   "source": [
    "import matplotlib.pyplot as plt\n",
    "\n",
    "plt.plot(history.history['loss'], label='Training Loss')\n",
    "plt.plot(history.history['val_loss'], label='Validation Loss')\n",
    "plt.title('Model Loss')\n",
    "plt.xlabel('Epochs')\n",
    "plt.ylabel('Loss')\n",
    "plt.legend()\n",
    "plt.show()\n"
   ]
  },
  {
   "cell_type": "code",
   "execution_count": 66,
   "metadata": {},
   "outputs": [
    {
     "name": "stdout",
     "output_type": "stream",
     "text": [
      "32/32 [==============================] - 0s 1ms/step\n"
     ]
    }
   ],
   "source": [
    "ypred=model1.predict(X_test)"
   ]
  },
  {
   "cell_type": "code",
   "execution_count": 74,
   "metadata": {},
   "outputs": [],
   "source": [
    "y_pred=[];\n",
    "for i in ypred:\n",
    "    if(i>0.5):\n",
    "        y_pred.append(1)\n",
    "    else:\n",
    "        y_pred.append(0)\n",
    "        "
   ]
  },
  {
   "cell_type": "code",
   "execution_count": 80,
   "metadata": {},
   "outputs": [
    {
     "data": {
      "text/plain": [
       "<Axes: >"
      ]
     },
     "execution_count": 80,
     "metadata": {},
     "output_type": "execute_result"
    },
    {
     "data": {
      "image/png": "[encoded data removed]",
      "text/plain": [
       "<Figure size 640x480 with 2 Axes>"
      ]
     },
     "metadata": {},
     "output_type": "display_data"
    }
   ],
   "source": [
    "import seaborn as sns\n",
    "import tensorflow as tf\n",
    "from sklearn.metrics import confusion_matrix\n",
    "sm=confusion_matrix(y_test,y_pred)\n",
    "sns.heatmap(sm,annot=True)"
   ]
  },
  {
   "cell_type": "markdown",
   "metadata": {},
   "source": [
    "#### Helps us decide the number of epochs, here when the validation loss shows an upward spike after the decrease is where we have to stop. We do not want our model to learn too much from the train data and result in overfitting."
   ]
  },
  {
   "cell_type": "markdown",
   "metadata": {},
   "source": [
    "### inference:\n",
    "- in this loss vs epoch graph. The training and validation losses decrease and converge at a similar loss, hence it is an ideal architecture."
   ]
  },
  {
   "cell_type": "code",
   "execution_count": 81,
   "metadata": {
    "execution": {
     "iopub.execute_input": "2022-03-06T03:34:37.826813Z",
     "iopub.status.busy": "2022-03-06T03:34:37.826320Z",
     "iopub.status.idle": "2022-03-06T03:34:37.947521Z",
     "shell.execute_reply": "2022-03-06T03:34:37.946580Z",
     "shell.execute_reply.started": "2022-03-06T03:34:37.826746Z"
    }
   },
   "outputs": [],
   "source": [
    "model = Sequential()\n",
    "\n",
    "model.add(Dense(15,activation='sigmoid',input_dim=11))\n",
    "model.add(Dense(22,activation='sigmoid'))\n",
    "model.add(Dense(1,activation='sigmoid'))"
   ]
  },
  {
   "cell_type": "code",
   "execution_count": 82,
   "metadata": {
    "execution": {
     "iopub.execute_input": "2022-03-06T03:34:51.251022Z",
     "iopub.status.busy": "2022-03-06T03:34:51.250291Z",
     "iopub.status.idle": "2022-03-06T03:34:51.258677Z",
     "shell.execute_reply": "2022-03-06T03:34:51.257596Z",
     "shell.execute_reply.started": "2022-03-06T03:34:51.250979Z"
    }
   },
   "outputs": [
    {
     "name": "stdout",
     "output_type": "stream",
     "text": [
      "Model: \"sequential_2\"\n",
      "_________________________________________________________________\n",
      " Layer (type)                Output Shape              Param #   \n",
      "=================================================================\n",
      " dense_7 (Dense)             (None, 15)                180       \n",
      "                                                                 \n",
      " dense_8 (Dense)             (None, 22)                352       \n",
      "                                                                 \n",
      " dense_9 (Dense)             (None, 1)                 23        \n",
      "                                                                 \n",
      "=================================================================\n",
      "Total params: 555 (2.17 KB)\n",
      "Trainable params: 555 (2.17 KB)\n",
      "Non-trainable params: 0 (0.00 Byte)\n",
      "_________________________________________________________________\n"
     ]
    }
   ],
   "source": [
    "model.summary()"
   ]
  },
  {
   "cell_type": "code",
   "execution_count": 83,
   "metadata": {
    "execution": {
     "iopub.execute_input": "2022-03-06T03:34:59.301604Z",
     "iopub.status.busy": "2022-03-06T03:34:59.301333Z",
     "iopub.status.idle": "2022-03-06T03:34:59.315593Z",
     "shell.execute_reply": "2022-03-06T03:34:59.314884Z",
     "shell.execute_reply.started": "2022-03-06T03:34:59.301574Z"
    }
   },
   "outputs": [],
   "source": [
    "model.compile(optimizer='Adam',loss='binary_crossentropy',metrics=['accuracy'])"
   ]
  },
  {
   "cell_type": "code",
   "execution_count": 84,
   "metadata": {
    "execution": {
     "iopub.execute_input": "2022-03-06T03:35:50.902485Z",
     "iopub.status.busy": "2022-03-06T03:35:50.901904Z",
     "iopub.status.idle": "2022-03-06T03:36:19.455620Z",
     "shell.execute_reply": "2022-03-06T03:36:19.454726Z",
     "shell.execute_reply.started": "2022-03-06T03:35:50.902437Z"
    }
   },
   "outputs": [
    {
     "name": "stdout",
     "output_type": "stream",
     "text": [
      "Epoch 1/5\n",
      "178/178 [==============================] - 2s 3ms/step - loss: 0.5248 - accuracy: 0.7934 - val_loss: 0.4999 - val_accuracy: 0.7987\n",
      "Epoch 2/5\n",
      "178/178 [==============================] - 0s 3ms/step - loss: 0.5070 - accuracy: 0.7934 - val_loss: 0.4972 - val_accuracy: 0.7987\n",
      "Epoch 3/5\n",
      "178/178 [==============================] - 0s 2ms/step - loss: 0.5051 - accuracy: 0.7934 - val_loss: 0.4961 - val_accuracy: 0.7987\n",
      "Epoch 4/5\n",
      "178/178 [==============================] - 0s 2ms/step - loss: 0.5039 - accuracy: 0.7934 - val_loss: 0.4930 - val_accuracy: 0.7987\n",
      "Epoch 5/5\n",
      "178/178 [==============================] - 0s 3ms/step - loss: 0.5032 - accuracy: 0.7934 - val_loss: 0.4922 - val_accuracy: 0.7987\n"
     ]
    }
   ],
   "source": [
    "history = model.fit(X_train,y_train,batch_size=36,epochs=5,verbose=1,validation_split=0.2)"
   ]
  },
  {
   "cell_type": "code",
   "execution_count": 85,
   "metadata": {
    "execution": {
     "iopub.execute_input": "2022-03-06T03:36:33.569903Z",
     "iopub.status.busy": "2022-03-06T03:36:33.569599Z",
     "iopub.status.idle": "2022-03-06T03:36:33.770856Z",
     "shell.execute_reply": "2022-03-06T03:36:33.770114Z",
     "shell.execute_reply.started": "2022-03-06T03:36:33.569868Z"
    }
   },
   "outputs": [
    {
     "name": "stdout",
     "output_type": "stream",
     "text": [
      "32/32 [==============================] - 0s 1ms/step\n"
     ]
    }
   ],
   "source": [
    "y_pred = model.predict(X_test)"
   ]
  },
  {
   "cell_type": "code",
   "execution_count": 86,
   "metadata": {
    "execution": {
     "iopub.execute_input": "2022-03-06T03:36:43.782192Z",
     "iopub.status.busy": "2022-03-06T03:36:43.781671Z",
     "iopub.status.idle": "2022-03-06T03:36:43.789507Z",
     "shell.execute_reply": "2022-03-06T03:36:43.788484Z",
     "shell.execute_reply.started": "2022-03-06T03:36:43.782156Z"
    }
   },
   "outputs": [
    {
     "data": {
      "text/plain": [
       "array([[0.25219226],\n",
       "       [0.14747664],\n",
       "       [0.14747664],\n",
       "       [0.23744896],\n",
       "       [0.14747664],\n",
       "       [0.14747664],\n",
       "       [0.22060245],\n",
       "       [0.14747664],\n",
       "       [0.23744896],\n",
       "       [0.25219226],\n",
       "       [0.25219226],\n",
       "       [0.14747664],\n",
       "       [0.24175298],\n",
       "       [0.14747664],\n",
       "       [0.25570622],\n",
       "       [0.22060245],\n",
       "       [0.22060245],\n",
       "       [0.258899  ],\n",
       "       [0.14747664],\n",
       "       [0.22060245],\n",
       "       [0.14747664],\n",
       "       [0.24175298],\n",
       "       [0.22060245],\n",
       "       [0.22060245],\n",
       "       [0.14747664],\n",
       "       [0.24175298],\n",
       "       [0.24175298],\n",
       "       [0.14747664],\n",
       "       [0.14747664],\n",
       "       [0.22060245],\n",
       "       [0.14747664],\n",
       "       [0.258899  ],\n",
       "       [0.22060245],\n",
       "       [0.23744896],\n",
       "       [0.14747664],\n",
       "       [0.24175298],\n",
       "       [0.22060245],\n",
       "       [0.258899  ],\n",
       "       [0.14747664],\n",
       "       [0.14747664],\n",
       "       [0.24175298],\n",
       "       [0.14747664],\n",
       "       [0.14747664],\n",
       "       [0.14747664],\n",
       "       [0.14747664],\n",
       "       [0.25219226],\n",
       "       [0.25219226],\n",
       "       [0.23744896],\n",
       "       [0.24175298],\n",
       "       [0.24175298],\n",
       "       [0.22060245],\n",
       "       [0.14747664],\n",
       "       [0.24175298],\n",
       "       [0.25219226],\n",
       "       [0.24175298],\n",
       "       [0.24175298],\n",
       "       [0.25219226],\n",
       "       [0.14747664],\n",
       "       [0.24175298],\n",
       "       [0.14747664],\n",
       "       [0.25219226],\n",
       "       [0.22060245],\n",
       "       [0.24175298],\n",
       "       [0.23744896],\n",
       "       [0.25219226],\n",
       "       [0.25219226],\n",
       "       [0.22060245],\n",
       "       [0.24175298],\n",
       "       [0.22060245],\n",
       "       [0.25219226],\n",
       "       [0.24175298],\n",
       "       [0.22060245],\n",
       "       [0.14747664],\n",
       "       [0.24175298],\n",
       "       [0.22060245],\n",
       "       [0.24175298],\n",
       "       [0.22060245],\n",
       "       [0.258899  ],\n",
       "       [0.14747664],\n",
       "       [0.23744896],\n",
       "       [0.23744896],\n",
       "       [0.23744896],\n",
       "       [0.15516342],\n",
       "       [0.24175298],\n",
       "       [0.14747664],\n",
       "       [0.22060245],\n",
       "       [0.25219226],\n",
       "       [0.25219226],\n",
       "       [0.14747664],\n",
       "       [0.14747664],\n",
       "       [0.22060245],\n",
       "       [0.25219226],\n",
       "       [0.24175298],\n",
       "       [0.24175298],\n",
       "       [0.14747664],\n",
       "       [0.24175298],\n",
       "       [0.22060245],\n",
       "       [0.22060245],\n",
       "       [0.25219226],\n",
       "       [0.22060245],\n",
       "       [0.22060245],\n",
       "       [0.25219226],\n",
       "       [0.14747664],\n",
       "       [0.24175298],\n",
       "       [0.22060245],\n",
       "       [0.14747664],\n",
       "       [0.14747664],\n",
       "       [0.22060245],\n",
       "       [0.22060245],\n",
       "       [0.25219226],\n",
       "       [0.22060245],\n",
       "       [0.14747664],\n",
       "       [0.23744896],\n",
       "       [0.14747664],\n",
       "       [0.14747664],\n",
       "       [0.14747664],\n",
       "       [0.22060245],\n",
       "       [0.25219226],\n",
       "       [0.14747664],\n",
       "       [0.22060245],\n",
       "       [0.25219226],\n",
       "       [0.14747664],\n",
       "       [0.14747664],\n",
       "       [0.22060245],\n",
       "       [0.14747664],\n",
       "       [0.24175298],\n",
       "       [0.258899  ],\n",
       "       [0.14747664],\n",
       "       [0.22060245],\n",
       "       [0.24175298],\n",
       "       [0.14747664],\n",
       "       [0.23744896],\n",
       "       [0.14747664],\n",
       "       [0.14747664],\n",
       "       [0.24175298],\n",
       "       [0.14747664],\n",
       "       [0.22060245],\n",
       "       [0.24175298],\n",
       "       [0.14747664],\n",
       "       [0.24175298],\n",
       "       [0.22060245],\n",
       "       [0.14747664],\n",
       "       [0.22060245],\n",
       "       [0.14747664],\n",
       "       [0.22060245],\n",
       "       [0.14747664],\n",
       "       [0.22060245],\n",
       "       [0.25219226],\n",
       "       [0.14747664],\n",
       "       [0.22060245],\n",
       "       [0.24175298],\n",
       "       [0.24175298],\n",
       "       [0.14747664],\n",
       "       [0.14747664],\n",
       "       [0.22060245],\n",
       "       [0.14747664],\n",
       "       [0.14747664],\n",
       "       [0.14747664],\n",
       "       [0.22060245],\n",
       "       [0.22060245],\n",
       "       [0.22060245],\n",
       "       [0.14747664],\n",
       "       [0.22060245],\n",
       "       [0.23744896],\n",
       "       [0.22060245],\n",
       "       [0.25219226],\n",
       "       [0.22060245],\n",
       "       [0.24175298],\n",
       "       [0.24175298],\n",
       "       [0.22060245],\n",
       "       [0.22060245],\n",
       "       [0.25219226],\n",
       "       [0.24175298],\n",
       "       [0.25219226],\n",
       "       [0.22060245],\n",
       "       [0.14747664],\n",
       "       [0.22060245],\n",
       "       [0.22060245],\n",
       "       [0.14747664],\n",
       "       [0.24175298],\n",
       "       [0.24175298],\n",
       "       [0.14747664],\n",
       "       [0.14747664],\n",
       "       [0.22060245],\n",
       "       [0.258899  ],\n",
       "       [0.14747664],\n",
       "       [0.25219226],\n",
       "       [0.24175298],\n",
       "       [0.22060245],\n",
       "       [0.22060245],\n",
       "       [0.23744896],\n",
       "       [0.14747664],\n",
       "       [0.14747664],\n",
       "       [0.25219226],\n",
       "       [0.24175298],\n",
       "       [0.22060245],\n",
       "       [0.22060245],\n",
       "       [0.14747664],\n",
       "       [0.22060245],\n",
       "       [0.24175298],\n",
       "       [0.25219226],\n",
       "       [0.22060245],\n",
       "       [0.14747664],\n",
       "       [0.23744896],\n",
       "       [0.24175298],\n",
       "       [0.22060245],\n",
       "       [0.23744896],\n",
       "       [0.14747664],\n",
       "       [0.14747664],\n",
       "       [0.22060245],\n",
       "       [0.23744896],\n",
       "       [0.23744896],\n",
       "       [0.14747664],\n",
       "       [0.1469855 ],\n",
       "       [0.22060245],\n",
       "       [0.23744896],\n",
       "       [0.24175298],\n",
       "       [0.14747664],\n",
       "       [0.22060245],\n",
       "       [0.25219226],\n",
       "       [0.25219226],\n",
       "       [0.22060245],\n",
       "       [0.14747664],\n",
       "       [0.24175298],\n",
       "       [0.22060245],\n",
       "       [0.22060245],\n",
       "       [0.22060245],\n",
       "       [0.22060245],\n",
       "       [0.14747664],\n",
       "       [0.22060245],\n",
       "       [0.14747664],\n",
       "       [0.22060245],\n",
       "       [0.14747664],\n",
       "       [0.22060245],\n",
       "       [0.14747664],\n",
       "       [0.14747664],\n",
       "       [0.14747664],\n",
       "       [0.14747664],\n",
       "       [0.24175298],\n",
       "       [0.24175298],\n",
       "       [0.24175298],\n",
       "       [0.14747664],\n",
       "       [0.25219226],\n",
       "       [0.14747664],\n",
       "       [0.25219226],\n",
       "       [0.14747664],\n",
       "       [0.25219226],\n",
       "       [0.14747664],\n",
       "       [0.14747664],\n",
       "       [0.258899  ],\n",
       "       [0.14747664],\n",
       "       [0.23744896],\n",
       "       [0.22060245],\n",
       "       [0.258899  ],\n",
       "       [0.24175298],\n",
       "       [0.14747664],\n",
       "       [0.22060245],\n",
       "       [0.14747664],\n",
       "       [0.14747664],\n",
       "       [0.14747664],\n",
       "       [0.14747664],\n",
       "       [0.22060245],\n",
       "       [0.24175298],\n",
       "       [0.22060245],\n",
       "       [0.22060245],\n",
       "       [0.25219226],\n",
       "       [0.24175298],\n",
       "       [0.14747664],\n",
       "       [0.22060245],\n",
       "       [0.14747664],\n",
       "       [0.22060245],\n",
       "       [0.22060245],\n",
       "       [0.14747664],\n",
       "       [0.24175298],\n",
       "       [0.22060245],\n",
       "       [0.24175298],\n",
       "       [0.25219226],\n",
       "       [0.22060245],\n",
       "       [0.22060245],\n",
       "       [0.25219226],\n",
       "       [0.14747664],\n",
       "       [0.22060245],\n",
       "       [0.14747664],\n",
       "       [0.14747664],\n",
       "       [0.22060245],\n",
       "       [0.22060245],\n",
       "       [0.14747664],\n",
       "       [0.14747664],\n",
       "       [0.14747664],\n",
       "       [0.22060245],\n",
       "       [0.25219226],\n",
       "       [0.22060245],\n",
       "       [0.14747664],\n",
       "       [0.25219226],\n",
       "       [0.23217183],\n",
       "       [0.14747664],\n",
       "       [0.22060245],\n",
       "       [0.25219226],\n",
       "       [0.14747664],\n",
       "       [0.14747664],\n",
       "       [0.14747664],\n",
       "       [0.14747664],\n",
       "       [0.22060245],\n",
       "       [0.24175298],\n",
       "       [0.14747664],\n",
       "       [0.14747664],\n",
       "       [0.22060245],\n",
       "       [0.14747664],\n",
       "       [0.25219226],\n",
       "       [0.25219226],\n",
       "       [0.22060245],\n",
       "       [0.22060245],\n",
       "       [0.22060245],\n",
       "       [0.14747664],\n",
       "       [0.24175298],\n",
       "       [0.25570622],\n",
       "       [0.14747664],\n",
       "       [0.24175298],\n",
       "       [0.25219226],\n",
       "       [0.24175298],\n",
       "       [0.22060245],\n",
       "       [0.22060245],\n",
       "       [0.25219226],\n",
       "       [0.22060245],\n",
       "       [0.14747664],\n",
       "       [0.25219226],\n",
       "       [0.23744896],\n",
       "       [0.25219226],\n",
       "       [0.24175298],\n",
       "       [0.22060245],\n",
       "       [0.14747664],\n",
       "       [0.23744896],\n",
       "       [0.14747664],\n",
       "       [0.14747664],\n",
       "       [0.14747664],\n",
       "       [0.14747664],\n",
       "       [0.14747664],\n",
       "       [0.14747664],\n",
       "       [0.14747664],\n",
       "       [0.25219226],\n",
       "       [0.25219226],\n",
       "       [0.22060245],\n",
       "       [0.22060245],\n",
       "       [0.14747664],\n",
       "       [0.22060245],\n",
       "       [0.22060245],\n",
       "       [0.14747664],\n",
       "       [0.14747664],\n",
       "       [0.14747664],\n",
       "       [0.25219226],\n",
       "       [0.24175298],\n",
       "       [0.25219226],\n",
       "       [0.25219226],\n",
       "       [0.14747664],\n",
       "       [0.25219226],\n",
       "       [0.24175298],\n",
       "       [0.24175298],\n",
       "       [0.22060245],\n",
       "       [0.22060245],\n",
       "       [0.24175298],\n",
       "       [0.22060245],\n",
       "       [0.24175298],\n",
       "       [0.22060245],\n",
       "       [0.22060245],\n",
       "       [0.14747664],\n",
       "       [0.22060245],\n",
       "       [0.14747664],\n",
       "       [0.14747664],\n",
       "       [0.22060245],\n",
       "       [0.25570622],\n",
       "       [0.14747664],\n",
       "       [0.14747664],\n",
       "       [0.22060245],\n",
       "       [0.22060245],\n",
       "       [0.22060245],\n",
       "       [0.25219226],\n",
       "       [0.14747664],\n",
       "       [0.25570622],\n",
       "       [0.23744896],\n",
       "       [0.25219226],\n",
       "       [0.22060245],\n",
       "       [0.24175298],\n",
       "       [0.25219226],\n",
       "       [0.24175298],\n",
       "       [0.14747664],\n",
       "       [0.24175298],\n",
       "       [0.22060245],\n",
       "       [0.22060245],\n",
       "       [0.14747664],\n",
       "       [0.24175298],\n",
       "       [0.14747664],\n",
       "       [0.22060245],\n",
       "       [0.25219226],\n",
       "       [0.22060245],\n",
       "       [0.22060245],\n",
       "       [0.14747664],\n",
       "       [0.14747664],\n",
       "       [0.22060245],\n",
       "       [0.22060245],\n",
       "       [0.25219226],\n",
       "       [0.258899  ],\n",
       "       [0.23744896],\n",
       "       [0.24175298],\n",
       "       [0.25219226],\n",
       "       [0.24175298],\n",
       "       [0.14747664],\n",
       "       [0.14747664],\n",
       "       [0.24175298],\n",
       "       [0.23744896],\n",
       "       [0.22060245],\n",
       "       [0.14747664],\n",
       "       [0.14747664],\n",
       "       [0.25219226],\n",
       "       [0.24175298],\n",
       "       [0.24175298],\n",
       "       [0.24175298],\n",
       "       [0.14747664],\n",
       "       [0.24175298],\n",
       "       [0.23744896],\n",
       "       [0.14747664],\n",
       "       [0.24175298],\n",
       "       [0.14747664],\n",
       "       [0.22060245],\n",
       "       [0.258899  ],\n",
       "       [0.14747664],\n",
       "       [0.14747664],\n",
       "       [0.14747664],\n",
       "       [0.23744896],\n",
       "       [0.258899  ],\n",
       "       [0.14747664],\n",
       "       [0.22060245],\n",
       "       [0.258899  ],\n",
       "       [0.24175298],\n",
       "       [0.25219226],\n",
       "       [0.14747664],\n",
       "       [0.24175298],\n",
       "       [0.24175298],\n",
       "       [0.23744896],\n",
       "       [0.22060245],\n",
       "       [0.14747664],\n",
       "       [0.24175298],\n",
       "       [0.25219226],\n",
       "       [0.24175298],\n",
       "       [0.14747664],\n",
       "       [0.25219226],\n",
       "       [0.14747664],\n",
       "       [0.258899  ],\n",
       "       [0.24175298],\n",
       "       [0.23217183],\n",
       "       [0.14747664],\n",
       "       [0.24175298],\n",
       "       [0.22060245],\n",
       "       [0.14747664],\n",
       "       [0.14747664],\n",
       "       [0.14747664],\n",
       "       [0.25219226],\n",
       "       [0.24175298],\n",
       "       [0.22060245],\n",
       "       [0.24175298],\n",
       "       [0.25219226],\n",
       "       [0.22060245],\n",
       "       [0.23744896],\n",
       "       [0.22060245],\n",
       "       [0.14747664],\n",
       "       [0.22060245],\n",
       "       [0.14747664],\n",
       "       [0.24175298],\n",
       "       [0.14747664],\n",
       "       [0.22060245],\n",
       "       [0.22060245],\n",
       "       [0.14747664],\n",
       "       [0.25219226],\n",
       "       [0.22060245],\n",
       "       [0.24175298],\n",
       "       [0.24175298],\n",
       "       [0.24175298],\n",
       "       [0.14747664],\n",
       "       [0.14747664],\n",
       "       [0.14747664],\n",
       "       [0.24175298],\n",
       "       [0.14747664],\n",
       "       [0.14747664],\n",
       "       [0.24175298],\n",
       "       [0.22060245],\n",
       "       [0.14747664],\n",
       "       [0.25219226],\n",
       "       [0.14747664],\n",
       "       [0.22060245],\n",
       "       [0.22060245],\n",
       "       [0.258899  ],\n",
       "       [0.25219226],\n",
       "       [0.258899  ],\n",
       "       [0.25219226],\n",
       "       [0.24175298],\n",
       "       [0.25219226],\n",
       "       [0.14747664],\n",
       "       [0.22060245],\n",
       "       [0.14747664],\n",
       "       [0.22060245],\n",
       "       [0.14747664],\n",
       "       [0.22060245],\n",
       "       [0.23217183],\n",
       "       [0.25219226],\n",
       "       [0.22060245],\n",
       "       [0.22060245],\n",
       "       [0.14747664],\n",
       "       [0.25219226],\n",
       "       [0.24175298],\n",
       "       [0.24175298],\n",
       "       [0.24175298],\n",
       "       [0.22060245],\n",
       "       [0.25219226],\n",
       "       [0.22060245],\n",
       "       [0.24175298],\n",
       "       [0.24175298],\n",
       "       [0.14747664],\n",
       "       [0.258899  ],\n",
       "       [0.24175298],\n",
       "       [0.25219226],\n",
       "       [0.22060245],\n",
       "       [0.14747664],\n",
       "       [0.22060245],\n",
       "       [0.22060245],\n",
       "       [0.25219226],\n",
       "       [0.14747664],\n",
       "       [0.22060245],\n",
       "       [0.23744896],\n",
       "       [0.22060245],\n",
       "       [0.22060245],\n",
       "       [0.22060245],\n",
       "       [0.20674151],\n",
       "       [0.23744896],\n",
       "       [0.22060245],\n",
       "       [0.24175298],\n",
       "       [0.22060245],\n",
       "       [0.14747664],\n",
       "       [0.22060245],\n",
       "       [0.25219226],\n",
       "       [0.24175298],\n",
       "       [0.14747664],\n",
       "       [0.22060245],\n",
       "       [0.25570622],\n",
       "       [0.25219226],\n",
       "       [0.14747664],\n",
       "       [0.22060245],\n",
       "       [0.24175298],\n",
       "       [0.25219226],\n",
       "       [0.14747664],\n",
       "       [0.24175298],\n",
       "       [0.14747664],\n",
       "       [0.14747664],\n",
       "       [0.14747664],\n",
       "       [0.14747664],\n",
       "       [0.258899  ],\n",
       "       [0.22060245],\n",
       "       [0.14747664],\n",
       "       [0.22060245],\n",
       "       [0.14747664],\n",
       "       [0.14747664],\n",
       "       [0.24175298],\n",
       "       [0.14747664],\n",
       "       [0.14747664],\n",
       "       [0.14747664],\n",
       "       [0.23744896],\n",
       "       [0.23744896],\n",
       "       [0.23744896],\n",
       "       [0.24175298],\n",
       "       [0.14747664],\n",
       "       [0.14747664],\n",
       "       [0.258899  ],\n",
       "       [0.24175298],\n",
       "       [0.14747664],\n",
       "       [0.14747664],\n",
       "       [0.14747664],\n",
       "       [0.14747664],\n",
       "       [0.14747664],\n",
       "       [0.24175298],\n",
       "       [0.22060245],\n",
       "       [0.24175298],\n",
       "       [0.22060245],\n",
       "       [0.22060245],\n",
       "       [0.14747664],\n",
       "       [0.14747664],\n",
       "       [0.22060245],\n",
       "       [0.14747664],\n",
       "       [0.14747664],\n",
       "       [0.22060245],\n",
       "       [0.22060245],\n",
       "       [0.22060245],\n",
       "       [0.22060245],\n",
       "       [0.14747664],\n",
       "       [0.14747664],\n",
       "       [0.14747664],\n",
       "       [0.25219226],\n",
       "       [0.22060245],\n",
       "       [0.14747664],\n",
       "       [0.25219226],\n",
       "       [0.24175298],\n",
       "       [0.23744896],\n",
       "       [0.22060245],\n",
       "       [0.23744896],\n",
       "       [0.14747664],\n",
       "       [0.22060245],\n",
       "       [0.14747664],\n",
       "       [0.22060245],\n",
       "       [0.22060245],\n",
       "       [0.22060245],\n",
       "       [0.14747664],\n",
       "       [0.22060245],\n",
       "       [0.14747664],\n",
       "       [0.24175298],\n",
       "       [0.24175298],\n",
       "       [0.24175298],\n",
       "       [0.14747664],\n",
       "       [0.14747664],\n",
       "       [0.14747664],\n",
       "       [0.25219226],\n",
       "       [0.22060245],\n",
       "       [0.14747664],\n",
       "       [0.14747664],\n",
       "       [0.24175298],\n",
       "       [0.14747664],\n",
       "       [0.25219226],\n",
       "       [0.22060245],\n",
       "       [0.14747664],\n",
       "       [0.24175298],\n",
       "       [0.24175298],\n",
       "       [0.25219226],\n",
       "       [0.22060245],\n",
       "       [0.14747664],\n",
       "       [0.24175298],\n",
       "       [0.23744896],\n",
       "       [0.14747664],\n",
       "       [0.14747664],\n",
       "       [0.24175298],\n",
       "       [0.25219226],\n",
       "       [0.14747664],\n",
       "       [0.14747664],\n",
       "       [0.14747664],\n",
       "       [0.14747664],\n",
       "       [0.14747664],\n",
       "       [0.14747664],\n",
       "       [0.24175298],\n",
       "       [0.22060245],\n",
       "       [0.14747664],\n",
       "       [0.14747664],\n",
       "       [0.22060245],\n",
       "       [0.25219226],\n",
       "       [0.14747664],\n",
       "       [0.22060245],\n",
       "       [0.24175298],\n",
       "       [0.22060245],\n",
       "       [0.24175298],\n",
       "       [0.14747664],\n",
       "       [0.25219226],\n",
       "       [0.25219226],\n",
       "       [0.258899  ],\n",
       "       [0.22060245],\n",
       "       [0.24175298],\n",
       "       [0.23744896],\n",
       "       [0.22060245],\n",
       "       [0.25219226],\n",
       "       [0.22060245],\n",
       "       [0.22060245],\n",
       "       [0.14747664],\n",
       "       [0.25219226],\n",
       "       [0.22060245],\n",
       "       [0.24175298],\n",
       "       [0.22060245],\n",
       "       [0.24175298],\n",
       "       [0.24175298],\n",
       "       [0.14747664],\n",
       "       [0.14747664],\n",
       "       [0.14747664],\n",
       "       [0.24175298],\n",
       "       [0.258899  ],\n",
       "       [0.25219226],\n",
       "       [0.24175298],\n",
       "       [0.14747664],\n",
       "       [0.22060245],\n",
       "       [0.14747664],\n",
       "       [0.14747664],\n",
       "       [0.14747664],\n",
       "       [0.14747664],\n",
       "       [0.14747664],\n",
       "       [0.14747664],\n",
       "       [0.258899  ],\n",
       "       [0.14747664],\n",
       "       [0.22060245],\n",
       "       [0.25219226],\n",
       "       [0.22060245],\n",
       "       [0.14747664],\n",
       "       [0.22060245],\n",
       "       [0.22060245],\n",
       "       [0.24175298],\n",
       "       [0.14747664],\n",
       "       [0.25219226],\n",
       "       [0.25219226],\n",
       "       [0.25219226],\n",
       "       [0.14747664],\n",
       "       [0.25219226],\n",
       "       [0.14747664],\n",
       "       [0.25219226],\n",
       "       [0.14747664],\n",
       "       [0.22060245],\n",
       "       [0.25219226],\n",
       "       [0.14747664],\n",
       "       [0.14747664],\n",
       "       [0.22060245],\n",
       "       [0.22060245],\n",
       "       [0.24175298],\n",
       "       [0.14747664],\n",
       "       [0.25219226],\n",
       "       [0.14747664],\n",
       "       [0.24175298],\n",
       "       [0.14747664],\n",
       "       [0.14747664],\n",
       "       [0.14747664],\n",
       "       [0.14747664],\n",
       "       [0.22060245],\n",
       "       [0.25219226],\n",
       "       [0.23744896],\n",
       "       [0.22060245],\n",
       "       [0.14747664],\n",
       "       [0.14747664],\n",
       "       [0.258899  ],\n",
       "       [0.14747664],\n",
       "       [0.14747664],\n",
       "       [0.14747664],\n",
       "       [0.25219226],\n",
       "       [0.14747664],\n",
       "       [0.22060245],\n",
       "       [0.22060245],\n",
       "       [0.22060245],\n",
       "       [0.14747664],\n",
       "       [0.23744896],\n",
       "       [0.14747664],\n",
       "       [0.14747664],\n",
       "       [0.20674151],\n",
       "       [0.14747664],\n",
       "       [0.14747664],\n",
       "       [0.25219226],\n",
       "       [0.25219226],\n",
       "       [0.24175298],\n",
       "       [0.22060245],\n",
       "       [0.14747664],\n",
       "       [0.24175298],\n",
       "       [0.23744896],\n",
       "       [0.25219226],\n",
       "       [0.22060245],\n",
       "       [0.22060245],\n",
       "       [0.25219226],\n",
       "       [0.23744896],\n",
       "       [0.22060245],\n",
       "       [0.22060245],\n",
       "       [0.14747664],\n",
       "       [0.14747664],\n",
       "       [0.22060245],\n",
       "       [0.24175298],\n",
       "       [0.22060245],\n",
       "       [0.22060245],\n",
       "       [0.14747664],\n",
       "       [0.22060245],\n",
       "       [0.22060245],\n",
       "       [0.22060245],\n",
       "       [0.14747664],\n",
       "       [0.22060245],\n",
       "       [0.25219226],\n",
       "       [0.14747664],\n",
       "       [0.25219226],\n",
       "       [0.14747664],\n",
       "       [0.14747664],\n",
       "       [0.22060245],\n",
       "       [0.258899  ],\n",
       "       [0.14747664],\n",
       "       [0.24175298],\n",
       "       [0.24175298],\n",
       "       [0.24175298],\n",
       "       [0.22060245],\n",
       "       [0.25219226],\n",
       "       [0.14747664],\n",
       "       [0.24175298],\n",
       "       [0.24175298],\n",
       "       [0.25219226],\n",
       "       [0.22060245],\n",
       "       [0.258899  ],\n",
       "       [0.22060245],\n",
       "       [0.14747664],\n",
       "       [0.23744896],\n",
       "       [0.14747664],\n",
       "       [0.23744896],\n",
       "       [0.24175298],\n",
       "       [0.24175298],\n",
       "       [0.14747664],\n",
       "       [0.22060245],\n",
       "       [0.22060245],\n",
       "       [0.24175298],\n",
       "       [0.14747664],\n",
       "       [0.24175298],\n",
       "       [0.14747664],\n",
       "       [0.25219226],\n",
       "       [0.14747664],\n",
       "       [0.14747664],\n",
       "       [0.24175298],\n",
       "       [0.25570622],\n",
       "       [0.22060245],\n",
       "       [0.24175298],\n",
       "       [0.14747664],\n",
       "       [0.14747664],\n",
       "       [0.25219226],\n",
       "       [0.24175298],\n",
       "       [0.22060245],\n",
       "       [0.22060245],\n",
       "       [0.24175298],\n",
       "       [0.23744896],\n",
       "       [0.23744896],\n",
       "       [0.23744896],\n",
       "       [0.14747664],\n",
       "       [0.24175298],\n",
       "       [0.22060245],\n",
       "       [0.25219226],\n",
       "       [0.22060245],\n",
       "       [0.14747664],\n",
       "       [0.14747664],\n",
       "       [0.22060245],\n",
       "       [0.14747664],\n",
       "       [0.24175298],\n",
       "       [0.24175298],\n",
       "       [0.24175298],\n",
       "       [0.14747664],\n",
       "       [0.23744896],\n",
       "       [0.22060245],\n",
       "       [0.22060245],\n",
       "       [0.22060245],\n",
       "       [0.24175298],\n",
       "       [0.14747664],\n",
       "       [0.22060245],\n",
       "       [0.22060245],\n",
       "       [0.25219226],\n",
       "       [0.14747664],\n",
       "       [0.14747664],\n",
       "       [0.14747664],\n",
       "       [0.22060245],\n",
       "       [0.258899  ],\n",
       "       [0.23744896],\n",
       "       [0.23744896],\n",
       "       [0.14747664],\n",
       "       [0.22060245],\n",
       "       [0.14747664],\n",
       "       [0.14747664],\n",
       "       [0.14747664],\n",
       "       [0.22060245],\n",
       "       [0.14747664],\n",
       "       [0.25570622],\n",
       "       [0.22060245],\n",
       "       [0.24175298],\n",
       "       [0.14747664],\n",
       "       [0.14747664],\n",
       "       [0.25219226],\n",
       "       [0.22060245],\n",
       "       [0.24175298],\n",
       "       [0.24175298],\n",
       "       [0.22060245],\n",
       "       [0.23744896],\n",
       "       [0.22060245],\n",
       "       [0.24175298],\n",
       "       [0.24175298],\n",
       "       [0.258899  ],\n",
       "       [0.14747664],\n",
       "       [0.23744896],\n",
       "       [0.14747664],\n",
       "       [0.14747664],\n",
       "       [0.24175298],\n",
       "       [0.14747664],\n",
       "       [0.24175298],\n",
       "       [0.14747664],\n",
       "       [0.14747664],\n",
       "       [0.22060245],\n",
       "       [0.24175298],\n",
       "       [0.22060245],\n",
       "       [0.22060245],\n",
       "       [0.23744896],\n",
       "       [0.14747664],\n",
       "       [0.14747664],\n",
       "       [0.22060245],\n",
       "       [0.22060245],\n",
       "       [0.22060245],\n",
       "       [0.22060245],\n",
       "       [0.25219226],\n",
       "       [0.25570622],\n",
       "       [0.14747664],\n",
       "       [0.14747664],\n",
       "       [0.22060245],\n",
       "       [0.22060245],\n",
       "       [0.22060245],\n",
       "       [0.22060245],\n",
       "       [0.24175298],\n",
       "       [0.24175298],\n",
       "       [0.24175298],\n",
       "       [0.24175298],\n",
       "       [0.14747664],\n",
       "       [0.14747664],\n",
       "       [0.24175298],\n",
       "       [0.22060245],\n",
       "       [0.25219226],\n",
       "       [0.14747664],\n",
       "       [0.15543737],\n",
       "       [0.25219226],\n",
       "       [0.25570622],\n",
       "       [0.14747664],\n",
       "       [0.14747664],\n",
       "       [0.14747664],\n",
       "       [0.25219226],\n",
       "       [0.14747664],\n",
       "       [0.258899  ],\n",
       "       [0.258899  ],\n",
       "       [0.14747664],\n",
       "       [0.25570622],\n",
       "       [0.25219226],\n",
       "       [0.25219226],\n",
       "       [0.22060245],\n",
       "       [0.22060245],\n",
       "       [0.22060245],\n",
       "       [0.14747664],\n",
       "       [0.22060245],\n",
       "       [0.25219226],\n",
       "       [0.14747664],\n",
       "       [0.25219226],\n",
       "       [0.22060245],\n",
       "       [0.14747664],\n",
       "       [0.22060245],\n",
       "       [0.22060245],\n",
       "       [0.22060245],\n",
       "       [0.23217183],\n",
       "       [0.24175298],\n",
       "       [0.14747664],\n",
       "       [0.22060245],\n",
       "       [0.24175298],\n",
       "       [0.22060245],\n",
       "       [0.25219226],\n",
       "       [0.22060245],\n",
       "       [0.24175298],\n",
       "       [0.23744896],\n",
       "       [0.22060245],\n",
       "       [0.14747664],\n",
       "       [0.25219226],\n",
       "       [0.24175298],\n",
       "       [0.22060245],\n",
       "       [0.22060245],\n",
       "       [0.24175298],\n",
       "       [0.22060245],\n",
       "       [0.25219226],\n",
       "       [0.25219226],\n",
       "       [0.22060245],\n",
       "       [0.14747664],\n",
       "       [0.14747664],\n",
       "       [0.258899  ],\n",
       "       [0.24175298],\n",
       "       [0.14747664],\n",
       "       [0.25219226],\n",
       "       [0.22060245],\n",
       "       [0.258899  ],\n",
       "       [0.25219226],\n",
       "       [0.22060245],\n",
       "       [0.25219226],\n",
       "       [0.14747664],\n",
       "       [0.23744896],\n",
       "       [0.22060245],\n",
       "       [0.22060245],\n",
       "       [0.14747664],\n",
       "       [0.14747664],\n",
       "       [0.24175298],\n",
       "       [0.14747664],\n",
       "       [0.14747664],\n",
       "       [0.22060245],\n",
       "       [0.22060245],\n",
       "       [0.14747664],\n",
       "       [0.14747664],\n",
       "       [0.14747664],\n",
       "       [0.14747664],\n",
       "       [0.14747664],\n",
       "       [0.14747664],\n",
       "       [0.22060245],\n",
       "       [0.23744896],\n",
       "       [0.25219226],\n",
       "       [0.22060245],\n",
       "       [0.25219226],\n",
       "       [0.25219226],\n",
       "       [0.22060245],\n",
       "       [0.22060245],\n",
       "       [0.14747664],\n",
       "       [0.25219226],\n",
       "       [0.22060245],\n",
       "       [0.23744896],\n",
       "       [0.14747664],\n",
       "       [0.25219226],\n",
       "       [0.14747664],\n",
       "       [0.24175298],\n",
       "       [0.14747664],\n",
       "       [0.25219226]], dtype=float32)"
      ]
     },
     "execution_count": 86,
     "metadata": {},
     "output_type": "execute_result"
    }
   ],
   "source": [
    "y_pred"
   ]
  },
  {
   "cell_type": "code",
   "execution_count": 87,
   "metadata": {
    "execution": {
     "iopub.execute_input": "2022-03-06T03:36:53.420271Z",
     "iopub.status.busy": "2022-03-06T03:36:53.419840Z",
     "iopub.status.idle": "2022-03-06T03:36:53.425184Z",
     "shell.execute_reply": "2022-03-06T03:36:53.424317Z",
     "shell.execute_reply.started": "2022-03-06T03:36:53.420233Z"
    }
   },
   "outputs": [],
   "source": [
    "y_pred = y_pred.argmax(axis=-1)"
   ]
  },
  {
   "cell_type": "code",
   "execution_count": 88,
   "metadata": {
    "execution": {
     "iopub.execute_input": "2022-03-06T03:37:01.490157Z",
     "iopub.status.busy": "2022-03-06T03:37:01.489866Z",
     "iopub.status.idle": "2022-03-06T03:37:01.498513Z",
     "shell.execute_reply": "2022-03-06T03:37:01.497608Z",
     "shell.execute_reply.started": "2022-03-06T03:37:01.490129Z"
    }
   },
   "outputs": [
    {
     "data": {
      "text/plain": [
       "0.785"
      ]
     },
     "execution_count": 88,
     "metadata": {},
     "output_type": "execute_result"
    }
   ],
   "source": [
    "from sklearn.metrics import accuracy_score\n",
    "accuracy_score(y_test,y_pred)"
   ]
  },
  {
   "cell_type": "code",
   "execution_count": 89,
   "metadata": {
    "execution": {
     "iopub.execute_input": "2022-03-06T03:37:10.534504Z",
     "iopub.status.busy": "2022-03-06T03:37:10.534076Z",
     "iopub.status.idle": "2022-03-06T03:37:10.742592Z",
     "shell.execute_reply": "2022-03-06T03:37:10.741662Z",
     "shell.execute_reply.started": "2022-03-06T03:37:10.534473Z"
    }
   },
   "outputs": [
    {
     "data": {
      "text/plain": [
       "[<matplotlib.lines.Line2D at 0x2390fdacb50>]"
      ]
     },
     "execution_count": 89,
     "metadata": {},
     "output_type": "execute_result"
    },
    {
     "data": {
      "image/png": "[encoded data removed]",
      "text/plain": [
       "<Figure size 640x480 with 1 Axes>"
      ]
     },
     "metadata": {},
     "output_type": "display_data"
    }
   ],
   "source": [
    "import matplotlib.pyplot as plt\n",
    "\n",
    "plt.plot(history.history['loss'])\n",
    "plt.plot(history.history['val_loss'])"
   ]
  },
  {
   "cell_type": "code",
   "execution_count": 90,
   "metadata": {
    "execution": {
     "iopub.execute_input": "2022-03-06T03:37:24.164195Z",
     "iopub.status.busy": "2022-03-06T03:37:24.163624Z",
     "iopub.status.idle": "2022-03-06T03:37:24.378329Z",
     "shell.execute_reply": "2022-03-06T03:37:24.377501Z",
     "shell.execute_reply.started": "2022-03-06T03:37:24.164150Z"
    }
   },
   "outputs": [
    {
     "data": {
      "text/plain": [
       "[<matplotlib.lines.Line2D at 0x2390ff515d0>]"
      ]
     },
     "execution_count": 90,
     "metadata": {},
     "output_type": "execute_result"
    },
    {
     "data": {
      "image/png": "[encoded data removed]",
      "text/plain": [
       "<Figure size 640x480 with 1 Axes>"
      ]
     },
     "metadata": {},
     "output_type": "display_data"
    }
   ],
   "source": [
    "plt.plot(history.history['accuracy'])\n",
    "plt.plot(history.history['val_accuracy'])"
   ]
  },
  {
   "cell_type": "markdown",
   "metadata": {},
   "source": []
  },
  {
   "cell_type": "code",
   "execution_count": null,
   "metadata": {},
   "outputs": [],
   "source": []
  }
 ],
 "metadata": {
  "kernelspec": {
   "display_name": "Python 3 (ipykernel)",
   "language": "python",
   "name": "python3"
  },
  "language_info": {
   "codemirror_mode": {
    "name": "ipython",
    "version": 3
   },
   "file_extension": ".py",
   "mimetype": "text/x-python",
   "name": "python",
   "nbconvert_exporter": "python",
   "pygments_lexer": "ipython3",
   "version": "3.11.4"
  }
 },
 "nbformat": 4,
 "nbformat_minor": 4
}
