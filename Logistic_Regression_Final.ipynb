{
 "cells": [
  {
   "cell_type": "code",
   "execution_count": 2,
   "id": "099b6cf1",
   "metadata": {},
   "outputs": [],
   "source": [
    "import pandas as pd\n",
    "import matplotlib.pyplot as plt\n",
    "import seaborn as sns\n",
    "import numpy as np\n",
    "%matplotlib inline"
   ]
  },
  {
   "cell_type": "code",
   "execution_count": 8,
   "id": "5b4dad22",
   "metadata": {},
   "outputs": [
    {
     "name": "stdout",
     "output_type": "stream",
     "text": [
      "<class 'pandas.core.frame.DataFrame'>\n",
      "RangeIndex: 577 entries, 0 to 576\n",
      "Data columns (total 8 columns):\n",
      " #   Column                   Non-Null Count  Dtype  \n",
      "---  ------                   --------------  -----  \n",
      " 0   Survived                 577 non-null    int64  \n",
      " 1   Pclass                   577 non-null    int64  \n",
      " 2   Name                     577 non-null    object \n",
      " 3   Sex                      577 non-null    object \n",
      " 4   Age                      577 non-null    float64\n",
      " 5   Siblings/Spouses Aboard  577 non-null    int64  \n",
      " 6   Parents/Children Aboard  577 non-null    int64  \n",
      " 7   Fare                     577 non-null    float64\n",
      "dtypes: float64(2), int64(4), object(2)\n",
      "memory usage: 36.2+ KB\n"
     ]
    }
   ],
   "source": [
    "df=pd.read_csv(\"Train .csv\")\n",
    "df.info()"
   ]
  },
  {
   "cell_type": "code",
   "execution_count": 393,
   "id": "cd4ac00d",
   "metadata": {},
   "outputs": [
    {
     "data": {
      "text/plain": [
       "Survived                   577\n",
       "Pclass                     577\n",
       "Name                       577\n",
       "Sex                        577\n",
       "Age                        577\n",
       "Siblings/Spouses Aboard    577\n",
       "Parents/Children Aboard    577\n",
       "Fare                       577\n",
       "dtype: int64"
      ]
     },
     "execution_count": 393,
     "metadata": {},
     "output_type": "execute_result"
    }
   ],
   "source": [
    "df.count()"
   ]
  },
  {
   "cell_type": "code",
   "execution_count": 394,
   "id": "09d02ba9",
   "metadata": {},
   "outputs": [
    {
     "data": {
      "text/html": [
       "<div>\n",
       "<style scoped>\n",
       "    .dataframe tbody tr th:only-of-type {\n",
       "        vertical-align: middle;\n",
       "    }\n",
       "\n",
       "    .dataframe tbody tr th {\n",
       "        vertical-align: top;\n",
       "    }\n",
       "\n",
       "    .dataframe thead th {\n",
       "        text-align: right;\n",
       "    }\n",
       "</style>\n",
       "<table border=\"1\" class=\"dataframe\">\n",
       "  <thead>\n",
       "    <tr style=\"text-align: right;\">\n",
       "      <th></th>\n",
       "      <th>Survived</th>\n",
       "      <th>Pclass</th>\n",
       "      <th>Name</th>\n",
       "      <th>Sex</th>\n",
       "      <th>Age</th>\n",
       "      <th>Siblings/Spouses Aboard</th>\n",
       "      <th>Parents/Children Aboard</th>\n",
       "      <th>Fare</th>\n",
       "    </tr>\n",
       "  </thead>\n",
       "  <tbody>\n",
       "    <tr>\n",
       "      <th>0</th>\n",
       "      <td>0</td>\n",
       "      <td>3</td>\n",
       "      <td>Mr. Owen Harris Braund</td>\n",
       "      <td>male</td>\n",
       "      <td>22.0</td>\n",
       "      <td>1</td>\n",
       "      <td>0</td>\n",
       "      <td>7.2500</td>\n",
       "    </tr>\n",
       "    <tr>\n",
       "      <th>1</th>\n",
       "      <td>1</td>\n",
       "      <td>1</td>\n",
       "      <td>Mrs. John Bradley (Florence Briggs Thayer) Cum...</td>\n",
       "      <td>female</td>\n",
       "      <td>38.0</td>\n",
       "      <td>1</td>\n",
       "      <td>0</td>\n",
       "      <td>71.2833</td>\n",
       "    </tr>\n",
       "    <tr>\n",
       "      <th>2</th>\n",
       "      <td>1</td>\n",
       "      <td>3</td>\n",
       "      <td>Miss. Laina Heikkinen</td>\n",
       "      <td>female</td>\n",
       "      <td>26.0</td>\n",
       "      <td>0</td>\n",
       "      <td>0</td>\n",
       "      <td>7.9250</td>\n",
       "    </tr>\n",
       "    <tr>\n",
       "      <th>3</th>\n",
       "      <td>1</td>\n",
       "      <td>1</td>\n",
       "      <td>Mrs. Jacques Heath (Lily May Peel) Futrelle</td>\n",
       "      <td>female</td>\n",
       "      <td>35.0</td>\n",
       "      <td>1</td>\n",
       "      <td>0</td>\n",
       "      <td>53.1000</td>\n",
       "    </tr>\n",
       "    <tr>\n",
       "      <th>4</th>\n",
       "      <td>0</td>\n",
       "      <td>3</td>\n",
       "      <td>Mr. William Henry Allen</td>\n",
       "      <td>male</td>\n",
       "      <td>35.0</td>\n",
       "      <td>0</td>\n",
       "      <td>0</td>\n",
       "      <td>8.0500</td>\n",
       "    </tr>\n",
       "  </tbody>\n",
       "</table>\n",
       "</div>"
      ],
      "text/plain": [
       "   Survived  Pclass                                               Name  \\\n",
       "0         0       3                             Mr. Owen Harris Braund   \n",
       "1         1       1  Mrs. John Bradley (Florence Briggs Thayer) Cum...   \n",
       "2         1       3                              Miss. Laina Heikkinen   \n",
       "3         1       1        Mrs. Jacques Heath (Lily May Peel) Futrelle   \n",
       "4         0       3                            Mr. William Henry Allen   \n",
       "\n",
       "      Sex   Age  Siblings/Spouses Aboard  Parents/Children Aboard     Fare  \n",
       "0    male  22.0                        1                        0   7.2500  \n",
       "1  female  38.0                        1                        0  71.2833  \n",
       "2  female  26.0                        0                        0   7.9250  \n",
       "3  female  35.0                        1                        0  53.1000  \n",
       "4    male  35.0                        0                        0   8.0500  "
      ]
     },
     "execution_count": 394,
     "metadata": {},
     "output_type": "execute_result"
    }
   ],
   "source": [
    "df.head()"
   ]
  },
  {
   "cell_type": "code",
   "execution_count": 46,
   "id": "1cf0c7c4",
   "metadata": {},
   "outputs": [],
   "source": [
    "df = df.fillna(df.mean()) #though our data has no null values\n",
    "df = pd.get_dummies(df, columns=[\"Sex\"]) #converts categorical variables into dummy or indicator variables i.e 0 or 1\n",
    "df = df.drop([\"Name\"], axis=1)"
   ]
  },
  {
   "cell_type": "code",
   "execution_count": 12,
   "id": "f8745936",
   "metadata": {},
   "outputs": [
    {
     "name": "stdout",
     "output_type": "stream",
     "text": [
      "<class 'pandas.core.frame.DataFrame'>\n",
      "RangeIndex: 577 entries, 0 to 576\n",
      "Data columns (total 9 columns):\n",
      " #   Column                   Non-Null Count  Dtype  \n",
      "---  ------                   --------------  -----  \n",
      " 0   Survived                 577 non-null    int64  \n",
      " 1   Pclass                   577 non-null    int64  \n",
      " 2   Age                      577 non-null    float64\n",
      " 3   Siblings/Spouses Aboard  577 non-null    int64  \n",
      " 4   Parents/Children Aboard  577 non-null    int64  \n",
      " 5   Fare                     577 non-null    float64\n",
      " 6   Relatives Aboard         577 non-null    int64  \n",
      " 7   Sex_female               577 non-null    uint8  \n",
      " 8   Sex_male                 577 non-null    uint8  \n",
      "dtypes: float64(2), int64(5), uint8(2)\n",
      "memory usage: 32.8 KB\n"
     ]
    }
   ],
   "source": [
    "df.info()"
   ]
  },
  {
   "cell_type": "code",
   "execution_count": 14,
   "id": "b15c3d9c",
   "metadata": {},
   "outputs": [
    {
     "data": {
      "text/html": [
       "<div>\n",
       "<style scoped>\n",
       "    .dataframe tbody tr th:only-of-type {\n",
       "        vertical-align: middle;\n",
       "    }\n",
       "\n",
       "    .dataframe tbody tr th {\n",
       "        vertical-align: top;\n",
       "    }\n",
       "\n",
       "    .dataframe thead th {\n",
       "        text-align: right;\n",
       "    }\n",
       "</style>\n",
       "<table border=\"1\" class=\"dataframe\">\n",
       "  <thead>\n",
       "    <tr style=\"text-align: right;\">\n",
       "      <th></th>\n",
       "      <th>Survived</th>\n",
       "      <th>Pclass</th>\n",
       "      <th>Age</th>\n",
       "      <th>Siblings/Spouses Aboard</th>\n",
       "      <th>Parents/Children Aboard</th>\n",
       "      <th>Fare</th>\n",
       "      <th>Relatives Aboard</th>\n",
       "      <th>Sex_female</th>\n",
       "      <th>Sex_male</th>\n",
       "    </tr>\n",
       "  </thead>\n",
       "  <tbody>\n",
       "    <tr>\n",
       "      <th>0</th>\n",
       "      <td>0</td>\n",
       "      <td>3</td>\n",
       "      <td>22.0</td>\n",
       "      <td>1</td>\n",
       "      <td>0</td>\n",
       "      <td>7.2500</td>\n",
       "      <td>1</td>\n",
       "      <td>0</td>\n",
       "      <td>1</td>\n",
       "    </tr>\n",
       "    <tr>\n",
       "      <th>1</th>\n",
       "      <td>1</td>\n",
       "      <td>1</td>\n",
       "      <td>38.0</td>\n",
       "      <td>1</td>\n",
       "      <td>0</td>\n",
       "      <td>71.2833</td>\n",
       "      <td>1</td>\n",
       "      <td>1</td>\n",
       "      <td>0</td>\n",
       "    </tr>\n",
       "    <tr>\n",
       "      <th>2</th>\n",
       "      <td>1</td>\n",
       "      <td>3</td>\n",
       "      <td>26.0</td>\n",
       "      <td>0</td>\n",
       "      <td>0</td>\n",
       "      <td>7.9250</td>\n",
       "      <td>0</td>\n",
       "      <td>1</td>\n",
       "      <td>0</td>\n",
       "    </tr>\n",
       "    <tr>\n",
       "      <th>3</th>\n",
       "      <td>1</td>\n",
       "      <td>1</td>\n",
       "      <td>35.0</td>\n",
       "      <td>1</td>\n",
       "      <td>0</td>\n",
       "      <td>53.1000</td>\n",
       "      <td>1</td>\n",
       "      <td>1</td>\n",
       "      <td>0</td>\n",
       "    </tr>\n",
       "    <tr>\n",
       "      <th>4</th>\n",
       "      <td>0</td>\n",
       "      <td>3</td>\n",
       "      <td>35.0</td>\n",
       "      <td>0</td>\n",
       "      <td>0</td>\n",
       "      <td>8.0500</td>\n",
       "      <td>0</td>\n",
       "      <td>0</td>\n",
       "      <td>1</td>\n",
       "    </tr>\n",
       "  </tbody>\n",
       "</table>\n",
       "</div>"
      ],
      "text/plain": [
       "   Survived  Pclass   Age  Siblings/Spouses Aboard  Parents/Children Aboard  \\\n",
       "0         0       3  22.0                        1                        0   \n",
       "1         1       1  38.0                        1                        0   \n",
       "2         1       3  26.0                        0                        0   \n",
       "3         1       1  35.0                        1                        0   \n",
       "4         0       3  35.0                        0                        0   \n",
       "\n",
       "      Fare  Relatives Aboard  Sex_female  Sex_male  \n",
       "0   7.2500                 1           0         1  \n",
       "1  71.2833                 1           1         0  \n",
       "2   7.9250                 0           1         0  \n",
       "3  53.1000                 1           1         0  \n",
       "4   8.0500                 0           0         1  "
      ]
     },
     "execution_count": 14,
     "metadata": {},
     "output_type": "execute_result"
    }
   ],
   "source": [
    "df['Relatives Aboard'] = df['Siblings/Spouses Aboard'] + df['Parents/Children Aboard']\n",
    "df.head()"
   ]
  },
  {
   "cell_type": "code",
   "execution_count": 47,
   "id": "9d2da9b9",
   "metadata": {},
   "outputs": [],
   "source": [
    "X=df[['Age','Pclass','Relatives Aboard','Fare','Sex_female']]\n",
    "Y=df['Survived']\n",
    "#Feature scaling\n",
    "#normalising X values\n",
    "#Zscore normalisation\n",
    "X=X.apply(lambda rec:(rec-rec.mean())/rec.std(),axis=0) "
   ]
  },
  {
   "cell_type": "code",
   "execution_count": 48,
   "id": "8cc42d11",
   "metadata": {},
   "outputs": [
    {
     "name": "stdout",
     "output_type": "stream",
     "text": [
      "Bias:  0.8152857463073375 Weights:  [0.26517523 0.90416381 0.84298184 0.13837341 0.97491286]\n"
     ]
    }
   ],
   "source": [
    "#Random values initialised for our parameters w1,w2,w3(weights),b,...\n",
    "\n",
    "import random\n",
    "def initialize(dim):\n",
    "    b=random.random()\n",
    "    w=np.random.rand(dim)#random.rand() creates an array of specified shape and fills it with random numbers lying btw 0 and 1\n",
    "    return b,w\n",
    "b,w=initialize(5)\n",
    "print(\"Bias: \",b,\"Weights: \",w)"
   ]
  },
  {
   "cell_type": "code",
   "execution_count": 49,
   "id": "4255829f",
   "metadata": {},
   "outputs": [
    {
     "data": {
      "text/plain": [
       "array([0.65388296, 0.72489484, 0.90018686, 0.70248097, 0.58825832,\n",
       "       0.55197966, 0.209962  , 0.86724876, 0.9636025 , 0.81489838,\n",
       "       0.94600633, 0.66497656, 0.5191967 , 0.97457477, 0.8781618 ,\n",
       "       0.84308832, 0.91871447, 0.28179715, 0.94515103, 0.89307868,\n",
       "       0.33778416, 0.32513521, 0.88019913, 0.13484817, 0.98200842])"
      ]
     },
     "execution_count": 49,
     "metadata": {},
     "output_type": "execute_result"
    }
   ],
   "source": [
    "def predict_y(b,w,X):\n",
    "    return b+np.dot(X,w)            #z=w1_x1+w2_x2+w3_x3+b\n",
    "\n",
    "def sigmoid(z):\n",
    "    return 1/(1+np.exp(-z))\n",
    "\n",
    "f=sigmoid(predict_y(b,w,X))\n",
    "f[0:25]"
   ]
  },
  {
   "cell_type": "code",
   "execution_count": 50,
   "id": "5647b772",
   "metadata": {},
   "outputs": [
    {
     "data": {
      "text/plain": [
       "0.9067693908594159"
      ]
     },
     "execution_count": 50,
     "metadata": {},
     "output_type": "execute_result"
    }
   ],
   "source": [
    "f=sigmoid(predict_y(b,w,X))\n",
    "#Regularized cost function\n",
    "def cost_J(y,f):\n",
    "    m=len(y)\n",
    "    l=0.01\n",
    "    cost = (-(1 / m) * np.sum(y * np.log(f) + (1 - y) * np.log(1 - f)))+(l/(2*m)*(np.sum(w*w)))\n",
    "    return cost\n",
    "\n",
    "cost_J(Y,f)"
   ]
  },
  {
   "cell_type": "code",
   "execution_count": 51,
   "id": "311fc07e",
   "metadata": {},
   "outputs": [
    {
     "name": "stdout",
     "output_type": "stream",
     "text": [
      "initial values  bias:  0.8152857463073375 weight:  [0.26517523 0.90416381 0.84298184 0.13837341 0.97491286]\n"
     ]
    }
   ],
   "source": [
    "def update(X,Y,f,b,w,a): #a is learning rate\n",
    "   \n",
    "    dj_db=(np.sum(f-Y))/len(Y)\n",
    "    dj_dw=(np.dot((f-Y),X))/len(Y)\n",
    "     #simultaneous update\n",
    "    new_b=b-a*dj_db\n",
    "    new_w=w-a*dj_dw\n",
    "    return new_b,new_w\n",
    "print(\"initial values  bias: \",b,\"weight: \",w)"
   ]
  },
  {
   "cell_type": "code",
   "execution_count": 52,
   "id": "47a012e5",
   "metadata": {},
   "outputs": [
    {
     "name": "stdout",
     "output_type": "stream",
     "text": [
      "After first update -Bias:  0.8129569607923783 weights:  [0.26554095 0.90169505 0.84180971 0.13935181 0.97592822]\n"
     ]
    },
    {
     "data": {
      "text/plain": [
       "0.9052695280226378"
      ]
     },
     "execution_count": 52,
     "metadata": {},
     "output_type": "execute_result"
    }
   ],
   "source": [
    "b,w=update(X,Y,f,b,w,0.01)\n",
    "f=sigmoid(predict_y(b,w,X))\n",
    "print(\"After first update -Bias: \",b,\"weights: \",w)\n",
    "cost_J(Y,f)"
   ]
  },
  {
   "cell_type": "code",
   "execution_count": 53,
   "id": "5631ce33",
   "metadata": {},
   "outputs": [
    {
     "data": {
      "text/plain": [
       "0.46054679217980504"
      ]
     },
     "execution_count": 53,
     "metadata": {},
     "output_type": "execute_result"
    }
   ],
   "source": [
    "f=sigmoid(predict_y(b,w,X)) \n",
    "j=[]\n",
    "List=[]\n",
    "for i in range(8000):\n",
    "    b,w=update(X,Y,f,b,w,0.01)\n",
    "    f=sigmoid(predict_y(b,w,X)) \n",
    "    #print(cost_J(Y,f)\n",
    "    j.append(cost_J(Y,f))\n",
    "    List.append(i)\n",
    "cost_J(Y,f)"
   ]
  },
  {
   "cell_type": "code",
   "execution_count": 54,
   "id": "570420e1",
   "metadata": {},
   "outputs": [
    {
     "data": {
      "text/plain": [
       "Text(0, 0.5, 'Cost Function J')"
      ]
     },
     "execution_count": 54,
     "metadata": {},
     "output_type": "execute_result"
    },
    {
     "data": {
      "image/png": "[encoded data removed]",
      "text/plain": [
       "<Figure size 640x480 with 1 Axes>"
      ]
     },
     "metadata": {},
     "output_type": "display_data"
    }
   ],
   "source": [
    "%matplotlib inline\n",
    "plt.plot(List,j,color='green')\n",
    "plt.xlabel(\"Number of iterations\")\n",
    "plt.ylabel(\"Cost Function J\")"
   ]
  },
  {
   "cell_type": "markdown",
   "id": "f62c9fc3",
   "metadata": {},
   "source": [
    "# Testing the model\n"
   ]
  },
  {
   "cell_type": "code",
   "execution_count": 55,
   "id": "9864a4d8",
   "metadata": {},
   "outputs": [
    {
     "data": {
      "text/html": [
       "<div>\n",
       "<style scoped>\n",
       "    .dataframe tbody tr th:only-of-type {\n",
       "        vertical-align: middle;\n",
       "    }\n",
       "\n",
       "    .dataframe tbody tr th {\n",
       "        vertical-align: top;\n",
       "    }\n",
       "\n",
       "    .dataframe thead th {\n",
       "        text-align: right;\n",
       "    }\n",
       "</style>\n",
       "<table border=\"1\" class=\"dataframe\">\n",
       "  <thead>\n",
       "    <tr style=\"text-align: right;\">\n",
       "      <th></th>\n",
       "      <th>Survived</th>\n",
       "      <th>Pclass</th>\n",
       "      <th>Age</th>\n",
       "      <th>Siblings/Spouses Aboard</th>\n",
       "      <th>Parents/Children Aboard</th>\n",
       "      <th>Fare</th>\n",
       "      <th>Sex_female</th>\n",
       "      <th>Sex_male</th>\n",
       "      <th>Relatives Aboard</th>\n",
       "    </tr>\n",
       "  </thead>\n",
       "  <tbody>\n",
       "    <tr>\n",
       "      <th>0</th>\n",
       "      <td>1</td>\n",
       "      <td>2</td>\n",
       "      <td>25.0</td>\n",
       "      <td>1</td>\n",
       "      <td>1</td>\n",
       "      <td>30.0000</td>\n",
       "      <td>1</td>\n",
       "      <td>0</td>\n",
       "      <td>2</td>\n",
       "    </tr>\n",
       "    <tr>\n",
       "      <th>1</th>\n",
       "      <td>1</td>\n",
       "      <td>1</td>\n",
       "      <td>39.0</td>\n",
       "      <td>1</td>\n",
       "      <td>1</td>\n",
       "      <td>110.8833</td>\n",
       "      <td>1</td>\n",
       "      <td>0</td>\n",
       "      <td>2</td>\n",
       "    </tr>\n",
       "    <tr>\n",
       "      <th>2</th>\n",
       "      <td>0</td>\n",
       "      <td>2</td>\n",
       "      <td>54.0</td>\n",
       "      <td>0</td>\n",
       "      <td>0</td>\n",
       "      <td>26.0000</td>\n",
       "      <td>0</td>\n",
       "      <td>1</td>\n",
       "      <td>0</td>\n",
       "    </tr>\n",
       "    <tr>\n",
       "      <th>3</th>\n",
       "      <td>0</td>\n",
       "      <td>1</td>\n",
       "      <td>36.0</td>\n",
       "      <td>0</td>\n",
       "      <td>0</td>\n",
       "      <td>40.1250</td>\n",
       "      <td>0</td>\n",
       "      <td>1</td>\n",
       "      <td>0</td>\n",
       "    </tr>\n",
       "    <tr>\n",
       "      <th>4</th>\n",
       "      <td>0</td>\n",
       "      <td>3</td>\n",
       "      <td>16.0</td>\n",
       "      <td>0</td>\n",
       "      <td>0</td>\n",
       "      <td>8.7125</td>\n",
       "      <td>0</td>\n",
       "      <td>1</td>\n",
       "      <td>0</td>\n",
       "    </tr>\n",
       "  </tbody>\n",
       "</table>\n",
       "</div>"
      ],
      "text/plain": [
       "   Survived  Pclass   Age  Siblings/Spouses Aboard  Parents/Children Aboard  \\\n",
       "0         1       2  25.0                        1                        1   \n",
       "1         1       1  39.0                        1                        1   \n",
       "2         0       2  54.0                        0                        0   \n",
       "3         0       1  36.0                        0                        0   \n",
       "4         0       3  16.0                        0                        0   \n",
       "\n",
       "       Fare  Sex_female  Sex_male  Relatives Aboard  \n",
       "0   30.0000           1         0                 2  \n",
       "1  110.8833           1         0                 2  \n",
       "2   26.0000           0         1                 0  \n",
       "3   40.1250           0         1                 0  \n",
       "4    8.7125           0         1                 0  "
      ]
     },
     "execution_count": 55,
     "metadata": {},
     "output_type": "execute_result"
    }
   ],
   "source": [
    "df2=pd.read_csv(\"Test .csv\")\n",
    "df2= pd.get_dummies(df2, columns=[\"Sex\"])#converts categorical variables into dummy or indicator variables i.e 0 or 1\n",
    "df2 = df2.drop([\"Name\"], axis=1)\n",
    "df2['Relatives Aboard'] = df2['Siblings/Spouses Aboard'] + df2['Parents/Children Aboard']\n",
    "df2.head()"
   ]
  },
  {
   "cell_type": "code",
   "execution_count": 56,
   "id": "0a444dba",
   "metadata": {},
   "outputs": [],
   "source": [
    "x=df2[['Age','Pclass','Relatives Aboard','Fare','Sex_female']]\n",
    "y=df2['Survived']\n",
    "\n",
    "#Feature scaling\n",
    "#normalising X values\n",
    "#Zscore normalisation\n",
    "x=x.apply(lambda rec:(rec-rec.mean())/rec.std(),axis=0) "
   ]
  },
  {
   "cell_type": "code",
   "execution_count": 57,
   "id": "d972fc97",
   "metadata": {},
   "outputs": [
    {
     "name": "stdout",
     "output_type": "stream",
     "text": [
      "Accuracy is  80.96774193548387 %\n"
     ]
    }
   ],
   "source": [
    "f=sigmoid(predict_y(b,w,x)) \n",
    "\n",
    "pred=[]\n",
    "for i in range(len(y)):\n",
    "    if f[i]>=0.5:\n",
    "        pred.append(1)\n",
    "    else:\n",
    "        pred.append(0)\n",
    "        \n",
    "def accuracy(y, pred):\n",
    "    accuracy = np.sum(y == pred)/len(y)\n",
    "    return accuracy\n",
    "print(\"Accuracy is \",accuracy(y,pred)*100,\"%\")"
   ]
  },
  {
   "cell_type": "code",
   "execution_count": null,
   "id": "5c22979a",
   "metadata": {},
   "outputs": [],
   "source": []
  }
 ],
 "metadata": {
  "kernelspec": {
   "display_name": "Python 3 (ipykernel)",
   "language": "python",
   "name": "python3"
  },
  "language_info": {
   "codemirror_mode": {
    "name": "ipython",
    "version": 3
   },
   "file_extension": ".py",
   "mimetype": "text/x-python",
   "name": "python",
   "nbconvert_exporter": "python",
   "pygments_lexer": "ipython3",
   "version": "3.11.4"
  }
 },
 "nbformat": 4,
 "nbformat_minor": 5
}
